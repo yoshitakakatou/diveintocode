{
 "cells": [
  {
   "cell_type": "markdown",
   "metadata": {},
   "source": [
    "課題提出"
   ]
  },
  {
   "cell_type": "code",
   "execution_count": 1,
   "metadata": {
    "collapsed": true
   },
   "outputs": [],
   "source": [
    "import numpy as np\n",
    "from sklearn.datasets import load_boston\n",
    "boston=load_boston()\n",
    "import pandas as pd\n",
    "X=pd.DataFrame(boston.data[:100,:],\n",
    "               columns=boston.feature_names)\n",
    "y=boston.target[:100]"
   ]
  },
  {
   "cell_type": "code",
   "execution_count": 2,
   "metadata": {},
   "outputs": [
    {
     "data": {
      "text/html": [
       "<div>\n",
       "<style>\n",
       "    .dataframe thead tr:only-child th {\n",
       "        text-align: right;\n",
       "    }\n",
       "\n",
       "    .dataframe thead th {\n",
       "        text-align: left;\n",
       "    }\n",
       "\n",
       "    .dataframe tbody tr th {\n",
       "        vertical-align: top;\n",
       "    }\n",
       "</style>\n",
       "<table border=\"1\" class=\"dataframe\">\n",
       "  <thead>\n",
       "    <tr style=\"text-align: right;\">\n",
       "      <th></th>\n",
       "      <th>CRIM</th>\n",
       "      <th>ZN</th>\n",
       "      <th>INDUS</th>\n",
       "      <th>CHAS</th>\n",
       "      <th>NOX</th>\n",
       "      <th>RM</th>\n",
       "      <th>AGE</th>\n",
       "      <th>DIS</th>\n",
       "      <th>RAD</th>\n",
       "      <th>TAX</th>\n",
       "      <th>PTRATIO</th>\n",
       "      <th>B</th>\n",
       "      <th>LSTAT</th>\n",
       "    </tr>\n",
       "  </thead>\n",
       "  <tbody>\n",
       "    <tr>\n",
       "      <th>0</th>\n",
       "      <td>0.00632</td>\n",
       "      <td>18.0</td>\n",
       "      <td>2.31</td>\n",
       "      <td>0.0</td>\n",
       "      <td>0.538</td>\n",
       "      <td>6.575</td>\n",
       "      <td>65.2</td>\n",
       "      <td>4.0900</td>\n",
       "      <td>1.0</td>\n",
       "      <td>296.0</td>\n",
       "      <td>15.3</td>\n",
       "      <td>396.90</td>\n",
       "      <td>4.98</td>\n",
       "    </tr>\n",
       "    <tr>\n",
       "      <th>1</th>\n",
       "      <td>0.02731</td>\n",
       "      <td>0.0</td>\n",
       "      <td>7.07</td>\n",
       "      <td>0.0</td>\n",
       "      <td>0.469</td>\n",
       "      <td>6.421</td>\n",
       "      <td>78.9</td>\n",
       "      <td>4.9671</td>\n",
       "      <td>2.0</td>\n",
       "      <td>242.0</td>\n",
       "      <td>17.8</td>\n",
       "      <td>396.90</td>\n",
       "      <td>9.14</td>\n",
       "    </tr>\n",
       "    <tr>\n",
       "      <th>2</th>\n",
       "      <td>0.02729</td>\n",
       "      <td>0.0</td>\n",
       "      <td>7.07</td>\n",
       "      <td>0.0</td>\n",
       "      <td>0.469</td>\n",
       "      <td>7.185</td>\n",
       "      <td>61.1</td>\n",
       "      <td>4.9671</td>\n",
       "      <td>2.0</td>\n",
       "      <td>242.0</td>\n",
       "      <td>17.8</td>\n",
       "      <td>392.83</td>\n",
       "      <td>4.03</td>\n",
       "    </tr>\n",
       "    <tr>\n",
       "      <th>3</th>\n",
       "      <td>0.03237</td>\n",
       "      <td>0.0</td>\n",
       "      <td>2.18</td>\n",
       "      <td>0.0</td>\n",
       "      <td>0.458</td>\n",
       "      <td>6.998</td>\n",
       "      <td>45.8</td>\n",
       "      <td>6.0622</td>\n",
       "      <td>3.0</td>\n",
       "      <td>222.0</td>\n",
       "      <td>18.7</td>\n",
       "      <td>394.63</td>\n",
       "      <td>2.94</td>\n",
       "    </tr>\n",
       "    <tr>\n",
       "      <th>4</th>\n",
       "      <td>0.06905</td>\n",
       "      <td>0.0</td>\n",
       "      <td>2.18</td>\n",
       "      <td>0.0</td>\n",
       "      <td>0.458</td>\n",
       "      <td>7.147</td>\n",
       "      <td>54.2</td>\n",
       "      <td>6.0622</td>\n",
       "      <td>3.0</td>\n",
       "      <td>222.0</td>\n",
       "      <td>18.7</td>\n",
       "      <td>396.90</td>\n",
       "      <td>5.33</td>\n",
       "    </tr>\n",
       "  </tbody>\n",
       "</table>\n",
       "</div>"
      ],
      "text/plain": [
       "      CRIM    ZN  INDUS  CHAS    NOX     RM   AGE     DIS  RAD    TAX  \\\n",
       "0  0.00632  18.0   2.31   0.0  0.538  6.575  65.2  4.0900  1.0  296.0   \n",
       "1  0.02731   0.0   7.07   0.0  0.469  6.421  78.9  4.9671  2.0  242.0   \n",
       "2  0.02729   0.0   7.07   0.0  0.469  7.185  61.1  4.9671  2.0  242.0   \n",
       "3  0.03237   0.0   2.18   0.0  0.458  6.998  45.8  6.0622  3.0  222.0   \n",
       "4  0.06905   0.0   2.18   0.0  0.458  7.147  54.2  6.0622  3.0  222.0   \n",
       "\n",
       "   PTRATIO       B  LSTAT  \n",
       "0     15.3  396.90   4.98  \n",
       "1     17.8  396.90   9.14  \n",
       "2     17.8  392.83   4.03  \n",
       "3     18.7  394.63   2.94  \n",
       "4     18.7  396.90   5.33  "
      ]
     },
     "execution_count": 2,
     "metadata": {},
     "output_type": "execute_result"
    }
   ],
   "source": [
    "X.head()"
   ]
  },
  {
   "cell_type": "code",
   "execution_count": 3,
   "metadata": {},
   "outputs": [
    {
     "data": {
      "text/html": [
       "<div>\n",
       "<style>\n",
       "    .dataframe thead tr:only-child th {\n",
       "        text-align: right;\n",
       "    }\n",
       "\n",
       "    .dataframe thead th {\n",
       "        text-align: left;\n",
       "    }\n",
       "\n",
       "    .dataframe tbody tr th {\n",
       "        vertical-align: top;\n",
       "    }\n",
       "</style>\n",
       "<table border=\"1\" class=\"dataframe\">\n",
       "  <thead>\n",
       "    <tr style=\"text-align: right;\">\n",
       "      <th></th>\n",
       "      <th>CRIM</th>\n",
       "      <th>ZN</th>\n",
       "      <th>INDUS</th>\n",
       "      <th>CHAS</th>\n",
       "      <th>NOX</th>\n",
       "      <th>RM</th>\n",
       "      <th>AGE</th>\n",
       "      <th>DIS</th>\n",
       "      <th>RAD</th>\n",
       "      <th>TAX</th>\n",
       "      <th>PTRATIO</th>\n",
       "      <th>B</th>\n",
       "      <th>LSTAT</th>\n",
       "    </tr>\n",
       "  </thead>\n",
       "  <tbody>\n",
       "    <tr>\n",
       "      <th>count</th>\n",
       "      <td>100.000000</td>\n",
       "      <td>100.000000</td>\n",
       "      <td>100.000000</td>\n",
       "      <td>100.0</td>\n",
       "      <td>100.000000</td>\n",
       "      <td>100.000000</td>\n",
       "      <td>100.000000</td>\n",
       "      <td>100.000000</td>\n",
       "      <td>100.000000</td>\n",
       "      <td>100.000000</td>\n",
       "      <td>100.00000</td>\n",
       "      <td>100.000000</td>\n",
       "      <td>100.000000</td>\n",
       "    </tr>\n",
       "    <tr>\n",
       "      <th>mean</th>\n",
       "      <td>0.283301</td>\n",
       "      <td>12.385000</td>\n",
       "      <td>6.668700</td>\n",
       "      <td>0.0</td>\n",
       "      <td>0.471321</td>\n",
       "      <td>6.234410</td>\n",
       "      <td>56.252000</td>\n",
       "      <td>5.177271</td>\n",
       "      <td>3.960000</td>\n",
       "      <td>289.490000</td>\n",
       "      <td>18.69000</td>\n",
       "      <td>385.301500</td>\n",
       "      <td>10.772900</td>\n",
       "    </tr>\n",
       "    <tr>\n",
       "      <th>std</th>\n",
       "      <td>0.389102</td>\n",
       "      <td>22.966802</td>\n",
       "      <td>3.162352</td>\n",
       "      <td>0.0</td>\n",
       "      <td>0.046836</td>\n",
       "      <td>0.490838</td>\n",
       "      <td>27.476787</td>\n",
       "      <td>1.412076</td>\n",
       "      <td>1.392041</td>\n",
       "      <td>45.922089</td>\n",
       "      <td>1.69893</td>\n",
       "      <td>27.386937</td>\n",
       "      <td>5.700031</td>\n",
       "    </tr>\n",
       "    <tr>\n",
       "      <th>min</th>\n",
       "      <td>0.006320</td>\n",
       "      <td>0.000000</td>\n",
       "      <td>0.740000</td>\n",
       "      <td>0.0</td>\n",
       "      <td>0.398000</td>\n",
       "      <td>5.399000</td>\n",
       "      <td>2.900000</td>\n",
       "      <td>3.092100</td>\n",
       "      <td>1.000000</td>\n",
       "      <td>216.000000</td>\n",
       "      <td>15.10000</td>\n",
       "      <td>232.600000</td>\n",
       "      <td>1.980000</td>\n",
       "    </tr>\n",
       "    <tr>\n",
       "      <th>25%</th>\n",
       "      <td>0.050395</td>\n",
       "      <td>0.000000</td>\n",
       "      <td>4.490000</td>\n",
       "      <td>0.0</td>\n",
       "      <td>0.437000</td>\n",
       "      <td>5.926250</td>\n",
       "      <td>35.225000</td>\n",
       "      <td>4.042225</td>\n",
       "      <td>3.000000</td>\n",
       "      <td>252.000000</td>\n",
       "      <td>17.90000</td>\n",
       "      <td>386.740000</td>\n",
       "      <td>6.702500</td>\n",
       "    </tr>\n",
       "    <tr>\n",
       "      <th>50%</th>\n",
       "      <td>0.102405</td>\n",
       "      <td>0.000000</td>\n",
       "      <td>6.910000</td>\n",
       "      <td>0.0</td>\n",
       "      <td>0.453000</td>\n",
       "      <td>6.130500</td>\n",
       "      <td>57.300000</td>\n",
       "      <td>4.990600</td>\n",
       "      <td>4.000000</td>\n",
       "      <td>284.000000</td>\n",
       "      <td>18.70000</td>\n",
       "      <td>394.395000</td>\n",
       "      <td>9.465000</td>\n",
       "    </tr>\n",
       "    <tr>\n",
       "      <th>75%</th>\n",
       "      <td>0.221050</td>\n",
       "      <td>18.750000</td>\n",
       "      <td>8.140000</td>\n",
       "      <td>0.0</td>\n",
       "      <td>0.524000</td>\n",
       "      <td>6.433000</td>\n",
       "      <td>81.775000</td>\n",
       "      <td>6.067175</td>\n",
       "      <td>4.250000</td>\n",
       "      <td>307.000000</td>\n",
       "      <td>19.70000</td>\n",
       "      <td>396.900000</td>\n",
       "      <td>13.315000</td>\n",
       "    </tr>\n",
       "    <tr>\n",
       "      <th>max</th>\n",
       "      <td>1.612820</td>\n",
       "      <td>100.000000</td>\n",
       "      <td>15.040000</td>\n",
       "      <td>0.0</td>\n",
       "      <td>0.538000</td>\n",
       "      <td>8.069000</td>\n",
       "      <td>100.000000</td>\n",
       "      <td>9.222900</td>\n",
       "      <td>8.000000</td>\n",
       "      <td>469.000000</td>\n",
       "      <td>21.10000</td>\n",
       "      <td>396.900000</td>\n",
       "      <td>30.810000</td>\n",
       "    </tr>\n",
       "  </tbody>\n",
       "</table>\n",
       "</div>"
      ],
      "text/plain": [
       "             CRIM          ZN       INDUS   CHAS         NOX          RM  \\\n",
       "count  100.000000  100.000000  100.000000  100.0  100.000000  100.000000   \n",
       "mean     0.283301   12.385000    6.668700    0.0    0.471321    6.234410   \n",
       "std      0.389102   22.966802    3.162352    0.0    0.046836    0.490838   \n",
       "min      0.006320    0.000000    0.740000    0.0    0.398000    5.399000   \n",
       "25%      0.050395    0.000000    4.490000    0.0    0.437000    5.926250   \n",
       "50%      0.102405    0.000000    6.910000    0.0    0.453000    6.130500   \n",
       "75%      0.221050   18.750000    8.140000    0.0    0.524000    6.433000   \n",
       "max      1.612820  100.000000   15.040000    0.0    0.538000    8.069000   \n",
       "\n",
       "              AGE         DIS         RAD         TAX    PTRATIO           B  \\\n",
       "count  100.000000  100.000000  100.000000  100.000000  100.00000  100.000000   \n",
       "mean    56.252000    5.177271    3.960000  289.490000   18.69000  385.301500   \n",
       "std     27.476787    1.412076    1.392041   45.922089    1.69893   27.386937   \n",
       "min      2.900000    3.092100    1.000000  216.000000   15.10000  232.600000   \n",
       "25%     35.225000    4.042225    3.000000  252.000000   17.90000  386.740000   \n",
       "50%     57.300000    4.990600    4.000000  284.000000   18.70000  394.395000   \n",
       "75%     81.775000    6.067175    4.250000  307.000000   19.70000  396.900000   \n",
       "max    100.000000    9.222900    8.000000  469.000000   21.10000  396.900000   \n",
       "\n",
       "            LSTAT  \n",
       "count  100.000000  \n",
       "mean    10.772900  \n",
       "std      5.700031  \n",
       "min      1.980000  \n",
       "25%      6.702500  \n",
       "50%      9.465000  \n",
       "75%     13.315000  \n",
       "max     30.810000  "
      ]
     },
     "execution_count": 3,
     "metadata": {},
     "output_type": "execute_result"
    }
   ],
   "source": [
    "X.describe()"
   ]
  },
  {
   "cell_type": "code",
   "execution_count": 4,
   "metadata": {},
   "outputs": [
    {
     "data": {
      "text/plain": [
       "array([  4.98,   9.14,   4.03,   2.94,   5.33,   5.21,  12.43,  19.15,\n",
       "        29.93,  17.1 ,  20.45,  13.27,  15.71,   8.26,  10.26,   8.47,\n",
       "         6.58,  14.67,  11.69,  11.28,  21.02,  13.83,  18.72,  19.88,\n",
       "        16.3 ,  16.51,  14.81,  17.28,  12.8 ,  11.98,  22.6 ,  13.04,\n",
       "        27.71,  18.35,  20.34,   9.68,  11.41,   8.77,  10.13,   4.32,\n",
       "         1.98,   4.84,   5.81,   7.44,   9.55,  10.21,  14.15,  18.8 ,\n",
       "        30.81,  16.2 ,  13.45,   9.43,   5.28,   8.43,  14.8 ,   4.81,\n",
       "         5.77,   3.95,   6.86,   9.22,  13.15,  14.44,   6.73,   9.5 ,\n",
       "         8.05,   4.67,  10.24,   8.1 ,  13.09,   8.79,   6.72,   9.88,\n",
       "         5.52,   7.54,   6.78,   8.94,  11.97,  10.27,  12.34,   9.1 ,\n",
       "         5.29,   7.22,   6.72,   7.51,   9.62,   6.53,  12.86,   8.44,\n",
       "         5.5 ,   5.7 ,   8.81,   8.2 ,   8.16,   6.21,  10.59,   6.65,\n",
       "        11.34,   4.21,   3.57,   6.19])"
      ]
     },
     "execution_count": 4,
     "metadata": {},
     "output_type": "execute_result"
    }
   ],
   "source": [
    "x=X['LSTAT'].values\n",
    "x"
   ]
  },
  {
   "cell_type": "code",
   "execution_count": 5,
   "metadata": {},
   "outputs": [
    {
     "data": {
      "text/plain": [
       "<matplotlib.collections.PathCollection at 0x15c267044a8>"
      ]
     },
     "execution_count": 5,
     "metadata": {},
     "output_type": "execute_result"
    },
    {
     "data": {
      "image/png": "[encoded data removed]",
      "text/plain": [
       "<matplotlib.figure.Figure at 0x15c261b69e8>"
      ]
     },
     "metadata": {},
     "output_type": "display_data"
    }
   ],
   "source": [
    "import matplotlib.pyplot as plt\n",
    "import seaborn as sns\n",
    "%matplotlib inline\n",
    "plt.scatter(x,y)"
   ]
  },
  {
   "cell_type": "code",
   "execution_count": 6,
   "metadata": {
    "collapsed": true
   },
   "outputs": [],
   "source": [
    "from sklearn.linear_model import LinearRegression\n",
    "lin_1d=LinearRegression()\n"
   ]
  },
  {
   "cell_type": "code",
   "execution_count": 7,
   "metadata": {},
   "outputs": [
    {
     "data": {
      "text/plain": [
       "LinearRegression(copy_X=True, fit_intercept=True, n_jobs=1, normalize=False)"
      ]
     },
     "execution_count": 7,
     "metadata": {},
     "output_type": "execute_result"
    }
   ],
   "source": [
    "lin_1d.fit(x[:,None],y)"
   ]
  },
  {
   "cell_type": "code",
   "execution_count": 8,
   "metadata": {},
   "outputs": [
    {
     "data": {
      "text/plain": [
       "1"
      ]
     },
     "execution_count": 8,
     "metadata": {},
     "output_type": "execute_result"
    }
   ],
   "source": [
    "x.ndim\n"
   ]
  },
  {
   "cell_type": "code",
   "execution_count": 9,
   "metadata": {},
   "outputs": [
    {
     "data": {
      "text/plain": [
       "2"
      ]
     },
     "execution_count": 9,
     "metadata": {},
     "output_type": "execute_result"
    }
   ],
   "source": [
    "x[:,None].ndim"
   ]
  },
  {
   "cell_type": "code",
   "execution_count": 10,
   "metadata": {},
   "outputs": [
    {
     "data": {
      "text/plain": [
       "array([ 29.09604558])"
      ]
     },
     "execution_count": 10,
     "metadata": {},
     "output_type": "execute_result"
    }
   ],
   "source": [
    "lin_1d.predict(2)"
   ]
  },
  {
   "cell_type": "code",
   "execution_count": 11,
   "metadata": {},
   "outputs": [
    {
     "data": {
      "text/plain": [
       "array([ 22.90694453])"
      ]
     },
     "execution_count": 11,
     "metadata": {},
     "output_type": "execute_result"
    }
   ],
   "source": [
    "lin_1d.predict(10)"
   ]
  },
  {
   "cell_type": "code",
   "execution_count": 12,
   "metadata": {},
   "outputs": [
    {
     "data": {
      "text/plain": [
       "array([ 22.90694453])"
      ]
     },
     "execution_count": 12,
     "metadata": {},
     "output_type": "execute_result"
    }
   ],
   "source": [
    "lin_1d.predict(2)\n",
    "lin_1d.predict(10)"
   ]
  },
  {
   "cell_type": "code",
   "execution_count": 13,
   "metadata": {},
   "outputs": [
    {
     "data": {
      "text/plain": [
       "[]"
      ]
     },
     "execution_count": 13,
     "metadata": {},
     "output_type": "execute_result"
    },
    {
     "data": {
      "image/png": "[encoded data removed]",
      "text/plain": [
       "<matplotlib.figure.Figure at 0x15c27cd8dd8>"
      ]
     },
     "metadata": {},
     "output_type": "display_data"
    }
   ],
   "source": [
    "n = np.linspace(np.min(x),np.max(x), 1000)\n",
    "y_1d_fit=lin_1d.predict(n[:,np.newaxis])\n",
    "\n",
    "plt.title(\"Boston House Price\")\n",
    "plt.scatter(x,y,label='data')\n",
    "plt.plot(n,y_1d_fit,'r',label='1d_lin')\n",
    "plt.ylim(10,40)#グラフを見やすくするためにｙ軸のプロット範囲を絞っているだけです。\n",
    "plt.xlabel(\"LSTAT\")\n",
    "plt.ylabel(\"price\")\n",
    "plt.legend()\n",
    "plt.plot()\n"
   ]
  },
  {
   "cell_type": "code",
   "execution_count": 14,
   "metadata": {},
   "outputs": [
    {
     "data": {
      "text/plain": [
       "array([ 11.30238006])"
      ]
     },
     "execution_count": 14,
     "metadata": {},
     "output_type": "execute_result"
    }
   ],
   "source": [
    "lin_1d.predict(25)"
   ]
  },
  {
   "cell_type": "code",
   "execution_count": 15,
   "metadata": {},
   "outputs": [
    {
     "data": {
      "text/plain": [
       "array([ 29.09604558])"
      ]
     },
     "execution_count": 15,
     "metadata": {},
     "output_type": "execute_result"
    }
   ],
   "source": [
    "lin_1d.predict(2)"
   ]
  },
  {
   "cell_type": "code",
   "execution_count": 16,
   "metadata": {},
   "outputs": [
    {
     "data": {
      "text/plain": [
       "array([ 22.90694453])"
      ]
     },
     "execution_count": 16,
     "metadata": {},
     "output_type": "execute_result"
    }
   ],
   "source": [
    "lin_1d.predict(10)"
   ]
  },
  {
   "cell_type": "code",
   "execution_count": 17,
   "metadata": {
    "collapsed": true
   },
   "outputs": [],
   "source": [
    "from sklearn.preprocessing import PolynomialFeatures\n",
    "degree_2=PolynomialFeatures(degree=2)"
   ]
  },
  {
   "cell_type": "code",
   "execution_count": 18,
   "metadata": {},
   "outputs": [
    {
     "data": {
      "text/plain": [
       "array([[   1.    ,    4.98  ,   24.8004],\n",
       "       [   1.    ,    9.14  ,   83.5396],\n",
       "       [   1.    ,    4.03  ,   16.2409],\n",
       "       [   1.    ,    2.94  ,    8.6436],\n",
       "       [   1.    ,    5.33  ,   28.4089],\n",
       "       [   1.    ,    5.21  ,   27.1441],\n",
       "       [   1.    ,   12.43  ,  154.5049],\n",
       "       [   1.    ,   19.15  ,  366.7225],\n",
       "       [   1.    ,   29.93  ,  895.8049],\n",
       "       [   1.    ,   17.1   ,  292.41  ],\n",
       "       [   1.    ,   20.45  ,  418.2025],\n",
       "       [   1.    ,   13.27  ,  176.0929],\n",
       "       [   1.    ,   15.71  ,  246.8041],\n",
       "       [   1.    ,    8.26  ,   68.2276],\n",
       "       [   1.    ,   10.26  ,  105.2676],\n",
       "       [   1.    ,    8.47  ,   71.7409],\n",
       "       [   1.    ,    6.58  ,   43.2964],\n",
       "       [   1.    ,   14.67  ,  215.2089],\n",
       "       [   1.    ,   11.69  ,  136.6561],\n",
       "       [   1.    ,   11.28  ,  127.2384],\n",
       "       [   1.    ,   21.02  ,  441.8404],\n",
       "       [   1.    ,   13.83  ,  191.2689],\n",
       "       [   1.    ,   18.72  ,  350.4384],\n",
       "       [   1.    ,   19.88  ,  395.2144],\n",
       "       [   1.    ,   16.3   ,  265.69  ],\n",
       "       [   1.    ,   16.51  ,  272.5801],\n",
       "       [   1.    ,   14.81  ,  219.3361],\n",
       "       [   1.    ,   17.28  ,  298.5984],\n",
       "       [   1.    ,   12.8   ,  163.84  ],\n",
       "       [   1.    ,   11.98  ,  143.5204],\n",
       "       [   1.    ,   22.6   ,  510.76  ],\n",
       "       [   1.    ,   13.04  ,  170.0416],\n",
       "       [   1.    ,   27.71  ,  767.8441],\n",
       "       [   1.    ,   18.35  ,  336.7225],\n",
       "       [   1.    ,   20.34  ,  413.7156],\n",
       "       [   1.    ,    9.68  ,   93.7024],\n",
       "       [   1.    ,   11.41  ,  130.1881],\n",
       "       [   1.    ,    8.77  ,   76.9129],\n",
       "       [   1.    ,   10.13  ,  102.6169],\n",
       "       [   1.    ,    4.32  ,   18.6624],\n",
       "       [   1.    ,    1.98  ,    3.9204],\n",
       "       [   1.    ,    4.84  ,   23.4256],\n",
       "       [   1.    ,    5.81  ,   33.7561],\n",
       "       [   1.    ,    7.44  ,   55.3536],\n",
       "       [   1.    ,    9.55  ,   91.2025],\n",
       "       [   1.    ,   10.21  ,  104.2441],\n",
       "       [   1.    ,   14.15  ,  200.2225],\n",
       "       [   1.    ,   18.8   ,  353.44  ],\n",
       "       [   1.    ,   30.81  ,  949.2561],\n",
       "       [   1.    ,   16.2   ,  262.44  ],\n",
       "       [   1.    ,   13.45  ,  180.9025],\n",
       "       [   1.    ,    9.43  ,   88.9249],\n",
       "       [   1.    ,    5.28  ,   27.8784],\n",
       "       [   1.    ,    8.43  ,   71.0649],\n",
       "       [   1.    ,   14.8   ,  219.04  ],\n",
       "       [   1.    ,    4.81  ,   23.1361],\n",
       "       [   1.    ,    5.77  ,   33.2929],\n",
       "       [   1.    ,    3.95  ,   15.6025],\n",
       "       [   1.    ,    6.86  ,   47.0596],\n",
       "       [   1.    ,    9.22  ,   85.0084],\n",
       "       [   1.    ,   13.15  ,  172.9225],\n",
       "       [   1.    ,   14.44  ,  208.5136],\n",
       "       [   1.    ,    6.73  ,   45.2929],\n",
       "       [   1.    ,    9.5   ,   90.25  ],\n",
       "       [   1.    ,    8.05  ,   64.8025],\n",
       "       [   1.    ,    4.67  ,   21.8089],\n",
       "       [   1.    ,   10.24  ,  104.8576],\n",
       "       [   1.    ,    8.1   ,   65.61  ],\n",
       "       [   1.    ,   13.09  ,  171.3481],\n",
       "       [   1.    ,    8.79  ,   77.2641],\n",
       "       [   1.    ,    6.72  ,   45.1584],\n",
       "       [   1.    ,    9.88  ,   97.6144],\n",
       "       [   1.    ,    5.52  ,   30.4704],\n",
       "       [   1.    ,    7.54  ,   56.8516],\n",
       "       [   1.    ,    6.78  ,   45.9684],\n",
       "       [   1.    ,    8.94  ,   79.9236],\n",
       "       [   1.    ,   11.97  ,  143.2809],\n",
       "       [   1.    ,   10.27  ,  105.4729],\n",
       "       [   1.    ,   12.34  ,  152.2756],\n",
       "       [   1.    ,    9.1   ,   82.81  ],\n",
       "       [   1.    ,    5.29  ,   27.9841],\n",
       "       [   1.    ,    7.22  ,   52.1284],\n",
       "       [   1.    ,    6.72  ,   45.1584],\n",
       "       [   1.    ,    7.51  ,   56.4001],\n",
       "       [   1.    ,    9.62  ,   92.5444],\n",
       "       [   1.    ,    6.53  ,   42.6409],\n",
       "       [   1.    ,   12.86  ,  165.3796],\n",
       "       [   1.    ,    8.44  ,   71.2336],\n",
       "       [   1.    ,    5.5   ,   30.25  ],\n",
       "       [   1.    ,    5.7   ,   32.49  ],\n",
       "       [   1.    ,    8.81  ,   77.6161],\n",
       "       [   1.    ,    8.2   ,   67.24  ],\n",
       "       [   1.    ,    8.16  ,   66.5856],\n",
       "       [   1.    ,    6.21  ,   38.5641],\n",
       "       [   1.    ,   10.59  ,  112.1481],\n",
       "       [   1.    ,    6.65  ,   44.2225],\n",
       "       [   1.    ,   11.34  ,  128.5956],\n",
       "       [   1.    ,    4.21  ,   17.7241],\n",
       "       [   1.    ,    3.57  ,   12.7449],\n",
       "       [   1.    ,    6.19  ,   38.3161]])"
      ]
     },
     "execution_count": 18,
     "metadata": {},
     "output_type": "execute_result"
    }
   ],
   "source": [
    "x_2=degree_2.fit_transform(x[:,None])\n",
    "x_2"
   ]
  },
  {
   "cell_type": "code",
   "execution_count": 19,
   "metadata": {},
   "outputs": [
    {
     "data": {
      "text/plain": [
       "LinearRegression(copy_X=True, fit_intercept=True, n_jobs=1, normalize=False)"
      ]
     },
     "execution_count": 19,
     "metadata": {},
     "output_type": "execute_result"
    }
   ],
   "source": [
    "lin_2d = LinearRegression()\n",
    "lin_2d.fit(x_2,y)"
   ]
  },
  {
   "cell_type": "code",
   "execution_count": 20,
   "metadata": {},
   "outputs": [
    {
     "data": {
      "text/plain": [
       "array([ 33.92196837])"
      ]
     },
     "execution_count": 20,
     "metadata": {},
     "output_type": "execute_result"
    }
   ],
   "source": [
    "# 単回帰の場合との違いに留意\n",
    "# [20]が必要\n",
    "\n",
    "lin_2d.predict(degree_2.fit_transform(2))"
   ]
  },
  {
   "cell_type": "code",
   "execution_count": 21,
   "metadata": {},
   "outputs": [
    {
     "data": {
      "text/plain": [
       "array([ 21.73286787])"
      ]
     },
     "execution_count": 21,
     "metadata": {},
     "output_type": "execute_result"
    }
   ],
   "source": [
    "lin_2d.predict(degree_2.fit_transform(10))"
   ]
  },
  {
   "cell_type": "code",
   "execution_count": 22,
   "metadata": {},
   "outputs": [
    {
     "data": {
      "text/plain": [
       "array([ 14.41376002])"
      ]
     },
     "execution_count": 22,
     "metadata": {},
     "output_type": "execute_result"
    }
   ],
   "source": [
    "lin_2d.predict(degree_2.fit_transform(25))"
   ]
  },
  {
   "cell_type": "code",
   "execution_count": 23,
   "metadata": {},
   "outputs": [
    {
     "data": {
      "text/plain": [
       "[]"
      ]
     },
     "execution_count": 23,
     "metadata": {},
     "output_type": "execute_result"
    },
    {
     "data": {
      "image/png": "[encoded data removed]",
      "text/plain": [
       "<matplotlib.figure.Figure at 0x15c27fb0d68>"
      ]
     },
     "metadata": {},
     "output_type": "display_data"
    }
   ],
   "source": [
    "n = np.linspace(np.min(x),np.max(x), 1000)\n",
    "y_2d_fit=lin_2d.predict(degree_2.fit_transform(n[:,np.newaxis]))\n",
    "y_1d_fit=lin_1d.predict(n[:,np.newaxis])\n",
    "\n",
    "plt.title(\"Boston House Price\")\n",
    "plt.scatter(x,y,label='data')\n",
    "plt.plot(n,y_2d_fit,'g',label='2d_lin')\n",
    "plt.plot(n,y_1d_fit,'r',label='1d_lin')\n",
    "plt.ylim(10,40)#グラフを見やすくするためにｙ軸のプロット範囲を絞ります。\n",
    "plt.xlabel(\"LSTAT\")\n",
    "plt.ylabel(\"price\")\n",
    "plt.legend()\n",
    "plt.plot()\n"
   ]
  },
  {
   "cell_type": "code",
   "execution_count": 24,
   "metadata": {},
   "outputs": [
    {
     "data": {
      "text/plain": [
       "15.537906007479371"
      ]
     },
     "execution_count": 24,
     "metadata": {},
     "output_type": "execute_result"
    }
   ],
   "source": [
    "from sklearn.metrics import mean_squared_error\n",
    "#まずは1次関数の2乗和誤差をみてみましょう\n",
    "mean_squared_error(y,lin_1d.predict(x[:,None]))\n"
   ]
  },
  {
   "cell_type": "code",
   "execution_count": 25,
   "metadata": {},
   "outputs": [
    {
     "data": {
      "text/plain": [
       "10.920226905348915"
      ]
     },
     "execution_count": 25,
     "metadata": {},
     "output_type": "execute_result"
    }
   ],
   "source": [
    "mean_squared_error(y,lin_2d.predict(x_2))\n"
   ]
  },
  {
   "cell_type": "code",
   "execution_count": 26,
   "metadata": {
    "collapsed": true
   },
   "outputs": [],
   "source": [
    "degree_3=PolynomialFeatures(degree=3)"
   ]
  },
  {
   "cell_type": "code",
   "execution_count": 27,
   "metadata": {},
   "outputs": [
    {
     "data": {
      "text/plain": [
       "array([[  1.00000000e+00,   4.98000000e+00,   2.48004000e+01,\n",
       "          1.23505992e+02],\n",
       "       [  1.00000000e+00,   9.14000000e+00,   8.35396000e+01,\n",
       "          7.63551944e+02],\n",
       "       [  1.00000000e+00,   4.03000000e+00,   1.62409000e+01,\n",
       "          6.54508270e+01],\n",
       "       [  1.00000000e+00,   2.94000000e+00,   8.64360000e+00,\n",
       "          2.54121840e+01],\n",
       "       [  1.00000000e+00,   5.33000000e+00,   2.84089000e+01,\n",
       "          1.51419437e+02],\n",
       "       [  1.00000000e+00,   5.21000000e+00,   2.71441000e+01,\n",
       "          1.41420761e+02],\n",
       "       [  1.00000000e+00,   1.24300000e+01,   1.54504900e+02,\n",
       "          1.92049591e+03],\n",
       "       [  1.00000000e+00,   1.91500000e+01,   3.66722500e+02,\n",
       "          7.02273587e+03],\n",
       "       [  1.00000000e+00,   2.99300000e+01,   8.95804900e+02,\n",
       "          2.68114407e+04],\n",
       "       [  1.00000000e+00,   1.71000000e+01,   2.92410000e+02,\n",
       "          5.00021100e+03],\n",
       "       [  1.00000000e+00,   2.04500000e+01,   4.18202500e+02,\n",
       "          8.55224112e+03],\n",
       "       [  1.00000000e+00,   1.32700000e+01,   1.76092900e+02,\n",
       "          2.33675278e+03],\n",
       "       [  1.00000000e+00,   1.57100000e+01,   2.46804100e+02,\n",
       "          3.87729241e+03],\n",
       "       [  1.00000000e+00,   8.26000000e+00,   6.82276000e+01,\n",
       "          5.63559976e+02],\n",
       "       [  1.00000000e+00,   1.02600000e+01,   1.05267600e+02,\n",
       "          1.08004558e+03],\n",
       "       [  1.00000000e+00,   8.47000000e+00,   7.17409000e+01,\n",
       "          6.07645423e+02],\n",
       "       [  1.00000000e+00,   6.58000000e+00,   4.32964000e+01,\n",
       "          2.84890312e+02],\n",
       "       [  1.00000000e+00,   1.46700000e+01,   2.15208900e+02,\n",
       "          3.15711456e+03],\n",
       "       [  1.00000000e+00,   1.16900000e+01,   1.36656100e+02,\n",
       "          1.59750981e+03],\n",
       "       [  1.00000000e+00,   1.12800000e+01,   1.27238400e+02,\n",
       "          1.43524915e+03],\n",
       "       [  1.00000000e+00,   2.10200000e+01,   4.41840400e+02,\n",
       "          9.28748521e+03],\n",
       "       [  1.00000000e+00,   1.38300000e+01,   1.91268900e+02,\n",
       "          2.64524889e+03],\n",
       "       [  1.00000000e+00,   1.87200000e+01,   3.50438400e+02,\n",
       "          6.56020685e+03],\n",
       "       [  1.00000000e+00,   1.98800000e+01,   3.95214400e+02,\n",
       "          7.85686227e+03],\n",
       "       [  1.00000000e+00,   1.63000000e+01,   2.65690000e+02,\n",
       "          4.33074700e+03],\n",
       "       [  1.00000000e+00,   1.65100000e+01,   2.72580100e+02,\n",
       "          4.50029745e+03],\n",
       "       [  1.00000000e+00,   1.48100000e+01,   2.19336100e+02,\n",
       "          3.24836764e+03],\n",
       "       [  1.00000000e+00,   1.72800000e+01,   2.98598400e+02,\n",
       "          5.15978035e+03],\n",
       "       [  1.00000000e+00,   1.28000000e+01,   1.63840000e+02,\n",
       "          2.09715200e+03],\n",
       "       [  1.00000000e+00,   1.19800000e+01,   1.43520400e+02,\n",
       "          1.71937439e+03],\n",
       "       [  1.00000000e+00,   2.26000000e+01,   5.10760000e+02,\n",
       "          1.15431760e+04],\n",
       "       [  1.00000000e+00,   1.30400000e+01,   1.70041600e+02,\n",
       "          2.21734246e+03],\n",
       "       [  1.00000000e+00,   2.77100000e+01,   7.67844100e+02,\n",
       "          2.12769600e+04],\n",
       "       [  1.00000000e+00,   1.83500000e+01,   3.36722500e+02,\n",
       "          6.17885788e+03],\n",
       "       [  1.00000000e+00,   2.03400000e+01,   4.13715600e+02,\n",
       "          8.41497530e+03],\n",
       "       [  1.00000000e+00,   9.68000000e+00,   9.37024000e+01,\n",
       "          9.07039232e+02],\n",
       "       [  1.00000000e+00,   1.14100000e+01,   1.30188100e+02,\n",
       "          1.48544622e+03],\n",
       "       [  1.00000000e+00,   8.77000000e+00,   7.69129000e+01,\n",
       "          6.74526133e+02],\n",
       "       [  1.00000000e+00,   1.01300000e+01,   1.02616900e+02,\n",
       "          1.03950920e+03],\n",
       "       [  1.00000000e+00,   4.32000000e+00,   1.86624000e+01,\n",
       "          8.06215680e+01],\n",
       "       [  1.00000000e+00,   1.98000000e+00,   3.92040000e+00,\n",
       "          7.76239200e+00],\n",
       "       [  1.00000000e+00,   4.84000000e+00,   2.34256000e+01,\n",
       "          1.13379904e+02],\n",
       "       [  1.00000000e+00,   5.81000000e+00,   3.37561000e+01,\n",
       "          1.96122941e+02],\n",
       "       [  1.00000000e+00,   7.44000000e+00,   5.53536000e+01,\n",
       "          4.11830784e+02],\n",
       "       [  1.00000000e+00,   9.55000000e+00,   9.12025000e+01,\n",
       "          8.70983875e+02],\n",
       "       [  1.00000000e+00,   1.02100000e+01,   1.04244100e+02,\n",
       "          1.06433226e+03],\n",
       "       [  1.00000000e+00,   1.41500000e+01,   2.00222500e+02,\n",
       "          2.83314838e+03],\n",
       "       [  1.00000000e+00,   1.88000000e+01,   3.53440000e+02,\n",
       "          6.64467200e+03],\n",
       "       [  1.00000000e+00,   3.08100000e+01,   9.49256100e+02,\n",
       "          2.92465804e+04],\n",
       "       [  1.00000000e+00,   1.62000000e+01,   2.62440000e+02,\n",
       "          4.25152800e+03],\n",
       "       [  1.00000000e+00,   1.34500000e+01,   1.80902500e+02,\n",
       "          2.43313862e+03],\n",
       "       [  1.00000000e+00,   9.43000000e+00,   8.89249000e+01,\n",
       "          8.38561807e+02],\n",
       "       [  1.00000000e+00,   5.28000000e+00,   2.78784000e+01,\n",
       "          1.47197952e+02],\n",
       "       [  1.00000000e+00,   8.43000000e+00,   7.10649000e+01,\n",
       "          5.99077107e+02],\n",
       "       [  1.00000000e+00,   1.48000000e+01,   2.19040000e+02,\n",
       "          3.24179200e+03],\n",
       "       [  1.00000000e+00,   4.81000000e+00,   2.31361000e+01,\n",
       "          1.11284641e+02],\n",
       "       [  1.00000000e+00,   5.77000000e+00,   3.32929000e+01,\n",
       "          1.92100033e+02],\n",
       "       [  1.00000000e+00,   3.95000000e+00,   1.56025000e+01,\n",
       "          6.16298750e+01],\n",
       "       [  1.00000000e+00,   6.86000000e+00,   4.70596000e+01,\n",
       "          3.22828856e+02],\n",
       "       [  1.00000000e+00,   9.22000000e+00,   8.50084000e+01,\n",
       "          7.83777448e+02],\n",
       "       [  1.00000000e+00,   1.31500000e+01,   1.72922500e+02,\n",
       "          2.27393088e+03],\n",
       "       [  1.00000000e+00,   1.44400000e+01,   2.08513600e+02,\n",
       "          3.01093638e+03],\n",
       "       [  1.00000000e+00,   6.73000000e+00,   4.52929000e+01,\n",
       "          3.04821217e+02],\n",
       "       [  1.00000000e+00,   9.50000000e+00,   9.02500000e+01,\n",
       "          8.57375000e+02],\n",
       "       [  1.00000000e+00,   8.05000000e+00,   6.48025000e+01,\n",
       "          5.21660125e+02],\n",
       "       [  1.00000000e+00,   4.67000000e+00,   2.18089000e+01,\n",
       "          1.01847563e+02],\n",
       "       [  1.00000000e+00,   1.02400000e+01,   1.04857600e+02,\n",
       "          1.07374182e+03],\n",
       "       [  1.00000000e+00,   8.10000000e+00,   6.56100000e+01,\n",
       "          5.31441000e+02],\n",
       "       [  1.00000000e+00,   1.30900000e+01,   1.71348100e+02,\n",
       "          2.24294663e+03],\n",
       "       [  1.00000000e+00,   8.79000000e+00,   7.72641000e+01,\n",
       "          6.79151439e+02],\n",
       "       [  1.00000000e+00,   6.72000000e+00,   4.51584000e+01,\n",
       "          3.03464448e+02],\n",
       "       [  1.00000000e+00,   9.88000000e+00,   9.76144000e+01,\n",
       "          9.64430272e+02],\n",
       "       [  1.00000000e+00,   5.52000000e+00,   3.04704000e+01,\n",
       "          1.68196608e+02],\n",
       "       [  1.00000000e+00,   7.54000000e+00,   5.68516000e+01,\n",
       "          4.28661064e+02],\n",
       "       [  1.00000000e+00,   6.78000000e+00,   4.59684000e+01,\n",
       "          3.11665752e+02],\n",
       "       [  1.00000000e+00,   8.94000000e+00,   7.99236000e+01,\n",
       "          7.14516984e+02],\n",
       "       [  1.00000000e+00,   1.19700000e+01,   1.43280900e+02,\n",
       "          1.71507237e+03],\n",
       "       [  1.00000000e+00,   1.02700000e+01,   1.05472900e+02,\n",
       "          1.08320668e+03],\n",
       "       [  1.00000000e+00,   1.23400000e+01,   1.52275600e+02,\n",
       "          1.87908090e+03],\n",
       "       [  1.00000000e+00,   9.10000000e+00,   8.28100000e+01,\n",
       "          7.53571000e+02],\n",
       "       [  1.00000000e+00,   5.29000000e+00,   2.79841000e+01,\n",
       "          1.48035889e+02],\n",
       "       [  1.00000000e+00,   7.22000000e+00,   5.21284000e+01,\n",
       "          3.76367048e+02],\n",
       "       [  1.00000000e+00,   6.72000000e+00,   4.51584000e+01,\n",
       "          3.03464448e+02],\n",
       "       [  1.00000000e+00,   7.51000000e+00,   5.64001000e+01,\n",
       "          4.23564751e+02],\n",
       "       [  1.00000000e+00,   9.62000000e+00,   9.25444000e+01,\n",
       "          8.90277128e+02],\n",
       "       [  1.00000000e+00,   6.53000000e+00,   4.26409000e+01,\n",
       "          2.78445077e+02],\n",
       "       [  1.00000000e+00,   1.28600000e+01,   1.65379600e+02,\n",
       "          2.12678166e+03],\n",
       "       [  1.00000000e+00,   8.44000000e+00,   7.12336000e+01,\n",
       "          6.01211584e+02],\n",
       "       [  1.00000000e+00,   5.50000000e+00,   3.02500000e+01,\n",
       "          1.66375000e+02],\n",
       "       [  1.00000000e+00,   5.70000000e+00,   3.24900000e+01,\n",
       "          1.85193000e+02],\n",
       "       [  1.00000000e+00,   8.81000000e+00,   7.76161000e+01,\n",
       "          6.83797841e+02],\n",
       "       [  1.00000000e+00,   8.20000000e+00,   6.72400000e+01,\n",
       "          5.51368000e+02],\n",
       "       [  1.00000000e+00,   8.16000000e+00,   6.65856000e+01,\n",
       "          5.43338496e+02],\n",
       "       [  1.00000000e+00,   6.21000000e+00,   3.85641000e+01,\n",
       "          2.39483061e+02],\n",
       "       [  1.00000000e+00,   1.05900000e+01,   1.12148100e+02,\n",
       "          1.18764838e+03],\n",
       "       [  1.00000000e+00,   6.65000000e+00,   4.42225000e+01,\n",
       "          2.94079625e+02],\n",
       "       [  1.00000000e+00,   1.13400000e+01,   1.28595600e+02,\n",
       "          1.45827410e+03],\n",
       "       [  1.00000000e+00,   4.21000000e+00,   1.77241000e+01,\n",
       "          7.46184610e+01],\n",
       "       [  1.00000000e+00,   3.57000000e+00,   1.27449000e+01,\n",
       "          4.54992930e+01],\n",
       "       [  1.00000000e+00,   6.19000000e+00,   3.83161000e+01,\n",
       "          2.37176659e+02]])"
      ]
     },
     "execution_count": 27,
     "metadata": {},
     "output_type": "execute_result"
    }
   ],
   "source": [
    "x_3=degree_3.fit_transform(x[:,None])\n",
    "x_3"
   ]
  },
  {
   "cell_type": "code",
   "execution_count": 28,
   "metadata": {},
   "outputs": [
    {
     "data": {
      "text/plain": [
       "LinearRegression(copy_X=True, fit_intercept=True, n_jobs=1, normalize=False)"
      ]
     },
     "execution_count": 28,
     "metadata": {},
     "output_type": "execute_result"
    }
   ],
   "source": [
    "lin_3d = LinearRegression()\n",
    "lin_3d.fit(x_3,y)"
   ]
  },
  {
   "cell_type": "code",
   "execution_count": 29,
   "metadata": {},
   "outputs": [
    {
     "data": {
      "text/plain": [
       "[]"
      ]
     },
     "execution_count": 29,
     "metadata": {},
     "output_type": "execute_result"
    },
    {
     "data": {
      "image/png": "[encoded data removed]",
      "text/plain": [
       "<matplotlib.figure.Figure at 0x15c280e7550>"
      ]
     },
     "metadata": {},
     "output_type": "display_data"
    }
   ],
   "source": [
    "n = np.linspace(np.min(x),np.max(x), 1000)\n",
    "y_3d_fit=lin_3d.predict(degree_3.fit_transform(n[:,np.newaxis]))\n",
    "y_2d_fit=lin_2d.predict(degree_2.fit_transform(n[:,np.newaxis]))\n",
    "y_1d_fit=lin_1d.predict(n[:,np.newaxis])\n",
    "\n",
    "plt.title(\"Boston House Price\")\n",
    "plt.scatter(x,y,label='data')\n",
    "plt.plot(n,y_3d_fit,'b',label='3d_lin')\n",
    "plt.plot(n,y_2d_fit,'g',label='2d_lin')\n",
    "plt.plot(n,y_1d_fit,'r',label='1d_lin')\n",
    "plt.ylim(10,40)#グラフを見やすくするためにｙ軸のプロット範囲を絞ります。\n",
    "plt.xlabel(\"LSTAT\")\n",
    "plt.ylabel(\"price\")\n",
    "plt.legend()\n",
    "plt.plot()"
   ]
  },
  {
   "cell_type": "code",
   "execution_count": 30,
   "metadata": {},
   "outputs": [
    {
     "data": {
      "text/plain": [
       "15.537906007479371"
      ]
     },
     "execution_count": 30,
     "metadata": {},
     "output_type": "execute_result"
    }
   ],
   "source": [
    "mean_squared_error(y,lin_1d.predict(x[:,None]))"
   ]
  },
  {
   "cell_type": "code",
   "execution_count": 31,
   "metadata": {},
   "outputs": [
    {
     "data": {
      "text/plain": [
       "10.920226905348915"
      ]
     },
     "execution_count": 31,
     "metadata": {},
     "output_type": "execute_result"
    }
   ],
   "source": [
    "mean_squared_error(y,lin_2d.predict(x_2))"
   ]
  },
  {
   "cell_type": "code",
   "execution_count": 32,
   "metadata": {},
   "outputs": [
    {
     "data": {
      "text/plain": [
       "10.055225709746381"
      ]
     },
     "execution_count": 32,
     "metadata": {},
     "output_type": "execute_result"
    }
   ],
   "source": [
    "mean_squared_error(y,lin_3d.predict(x_3))"
   ]
  },
  {
   "cell_type": "code",
   "execution_count": 33,
   "metadata": {
    "collapsed": true
   },
   "outputs": [],
   "source": [
    "degree_4=PolynomialFeatures(degree=4)"
   ]
  },
  {
   "cell_type": "code",
   "execution_count": 34,
   "metadata": {},
   "outputs": [
    {
     "data": {
      "text/plain": [
       "array([[  1.00000000e+00,   4.98000000e+00,   2.48004000e+01,\n",
       "          1.23505992e+02,   6.15059840e+02],\n",
       "       [  1.00000000e+00,   9.14000000e+00,   8.35396000e+01,\n",
       "          7.63551944e+02,   6.97886477e+03],\n",
       "       [  1.00000000e+00,   4.03000000e+00,   1.62409000e+01,\n",
       "          6.54508270e+01,   2.63766833e+02],\n",
       "       [  1.00000000e+00,   2.94000000e+00,   8.64360000e+00,\n",
       "          2.54121840e+01,   7.47118210e+01],\n",
       "       [  1.00000000e+00,   5.33000000e+00,   2.84089000e+01,\n",
       "          1.51419437e+02,   8.07065599e+02],\n",
       "       [  1.00000000e+00,   5.21000000e+00,   2.71441000e+01,\n",
       "          1.41420761e+02,   7.36802165e+02],\n",
       "       [  1.00000000e+00,   1.24300000e+01,   1.54504900e+02,\n",
       "          1.92049591e+03,   2.38717641e+04],\n",
       "       [  1.00000000e+00,   1.91500000e+01,   3.66722500e+02,\n",
       "          7.02273587e+03,   1.34485392e+05],\n",
       "       [  1.00000000e+00,   2.99300000e+01,   8.95804900e+02,\n",
       "          2.68114407e+04,   8.02466419e+05],\n",
       "       [  1.00000000e+00,   1.71000000e+01,   2.92410000e+02,\n",
       "          5.00021100e+03,   8.55036081e+04],\n",
       "       [  1.00000000e+00,   2.04500000e+01,   4.18202500e+02,\n",
       "          8.55224112e+03,   1.74893331e+05],\n",
       "       [  1.00000000e+00,   1.32700000e+01,   1.76092900e+02,\n",
       "          2.33675278e+03,   3.10087094e+04],\n",
       "       [  1.00000000e+00,   1.57100000e+01,   2.46804100e+02,\n",
       "          3.87729241e+03,   6.09122638e+04],\n",
       "       [  1.00000000e+00,   8.26000000e+00,   6.82276000e+01,\n",
       "          5.63559976e+02,   4.65500540e+03],\n",
       "       [  1.00000000e+00,   1.02600000e+01,   1.05267600e+02,\n",
       "          1.08004558e+03,   1.10812676e+04],\n",
       "       [  1.00000000e+00,   8.47000000e+00,   7.17409000e+01,\n",
       "          6.07645423e+02,   5.14675673e+03],\n",
       "       [  1.00000000e+00,   6.58000000e+00,   4.32964000e+01,\n",
       "          2.84890312e+02,   1.87457825e+03],\n",
       "       [  1.00000000e+00,   1.46700000e+01,   2.15208900e+02,\n",
       "          3.15711456e+03,   4.63148706e+04],\n",
       "       [  1.00000000e+00,   1.16900000e+01,   1.36656100e+02,\n",
       "          1.59750981e+03,   1.86748897e+04],\n",
       "       [  1.00000000e+00,   1.12800000e+01,   1.27238400e+02,\n",
       "          1.43524915e+03,   1.61896104e+04],\n",
       "       [  1.00000000e+00,   2.10200000e+01,   4.41840400e+02,\n",
       "          9.28748521e+03,   1.95222939e+05],\n",
       "       [  1.00000000e+00,   1.38300000e+01,   1.91268900e+02,\n",
       "          2.64524889e+03,   3.65837921e+04],\n",
       "       [  1.00000000e+00,   1.87200000e+01,   3.50438400e+02,\n",
       "          6.56020685e+03,   1.22807072e+05],\n",
       "       [  1.00000000e+00,   1.98800000e+01,   3.95214400e+02,\n",
       "          7.85686227e+03,   1.56194422e+05],\n",
       "       [  1.00000000e+00,   1.63000000e+01,   2.65690000e+02,\n",
       "          4.33074700e+03,   7.05911761e+04],\n",
       "       [  1.00000000e+00,   1.65100000e+01,   2.72580100e+02,\n",
       "          4.50029745e+03,   7.42999109e+04],\n",
       "       [  1.00000000e+00,   1.48100000e+01,   2.19336100e+02,\n",
       "          3.24836764e+03,   4.81083248e+04],\n",
       "       [  1.00000000e+00,   1.72800000e+01,   2.98598400e+02,\n",
       "          5.15978035e+03,   8.91610045e+04],\n",
       "       [  1.00000000e+00,   1.28000000e+01,   1.63840000e+02,\n",
       "          2.09715200e+03,   2.68435456e+04],\n",
       "       [  1.00000000e+00,   1.19800000e+01,   1.43520400e+02,\n",
       "          1.71937439e+03,   2.05981052e+04],\n",
       "       [  1.00000000e+00,   2.26000000e+01,   5.10760000e+02,\n",
       "          1.15431760e+04,   2.60875778e+05],\n",
       "       [  1.00000000e+00,   1.30400000e+01,   1.70041600e+02,\n",
       "          2.21734246e+03,   2.89141457e+04],\n",
       "       [  1.00000000e+00,   2.77100000e+01,   7.67844100e+02,\n",
       "          2.12769600e+04,   5.89584562e+05],\n",
       "       [  1.00000000e+00,   1.83500000e+01,   3.36722500e+02,\n",
       "          6.17885788e+03,   1.13382042e+05],\n",
       "       [  1.00000000e+00,   2.03400000e+01,   4.13715600e+02,\n",
       "          8.41497530e+03,   1.71160598e+05],\n",
       "       [  1.00000000e+00,   9.68000000e+00,   9.37024000e+01,\n",
       "          9.07039232e+02,   8.78013977e+03],\n",
       "       [  1.00000000e+00,   1.14100000e+01,   1.30188100e+02,\n",
       "          1.48544622e+03,   1.69489414e+04],\n",
       "       [  1.00000000e+00,   8.77000000e+00,   7.69129000e+01,\n",
       "          6.74526133e+02,   5.91559419e+03],\n",
       "       [  1.00000000e+00,   1.01300000e+01,   1.02616900e+02,\n",
       "          1.03950920e+03,   1.05302282e+04],\n",
       "       [  1.00000000e+00,   4.32000000e+00,   1.86624000e+01,\n",
       "          8.06215680e+01,   3.48285174e+02],\n",
       "       [  1.00000000e+00,   1.98000000e+00,   3.92040000e+00,\n",
       "          7.76239200e+00,   1.53695362e+01],\n",
       "       [  1.00000000e+00,   4.84000000e+00,   2.34256000e+01,\n",
       "          1.13379904e+02,   5.48758735e+02],\n",
       "       [  1.00000000e+00,   5.81000000e+00,   3.37561000e+01,\n",
       "          1.96122941e+02,   1.13947429e+03],\n",
       "       [  1.00000000e+00,   7.44000000e+00,   5.53536000e+01,\n",
       "          4.11830784e+02,   3.06402103e+03],\n",
       "       [  1.00000000e+00,   9.55000000e+00,   9.12025000e+01,\n",
       "          8.70983875e+02,   8.31789601e+03],\n",
       "       [  1.00000000e+00,   1.02100000e+01,   1.04244100e+02,\n",
       "          1.06433226e+03,   1.08668324e+04],\n",
       "       [  1.00000000e+00,   1.41500000e+01,   2.00222500e+02,\n",
       "          2.83314838e+03,   4.00890495e+04],\n",
       "       [  1.00000000e+00,   1.88000000e+01,   3.53440000e+02,\n",
       "          6.64467200e+03,   1.24919834e+05],\n",
       "       [  1.00000000e+00,   3.08100000e+01,   9.49256100e+02,\n",
       "          2.92465804e+04,   9.01087143e+05],\n",
       "       [  1.00000000e+00,   1.62000000e+01,   2.62440000e+02,\n",
       "          4.25152800e+03,   6.88747536e+04],\n",
       "       [  1.00000000e+00,   1.34500000e+01,   1.80902500e+02,\n",
       "          2.43313862e+03,   3.27257145e+04],\n",
       "       [  1.00000000e+00,   9.43000000e+00,   8.89249000e+01,\n",
       "          8.38561807e+02,   7.90763784e+03],\n",
       "       [  1.00000000e+00,   5.28000000e+00,   2.78784000e+01,\n",
       "          1.47197952e+02,   7.77205187e+02],\n",
       "       [  1.00000000e+00,   8.43000000e+00,   7.10649000e+01,\n",
       "          5.99077107e+02,   5.05022001e+03],\n",
       "       [  1.00000000e+00,   1.48000000e+01,   2.19040000e+02,\n",
       "          3.24179200e+03,   4.79785216e+04],\n",
       "       [  1.00000000e+00,   4.81000000e+00,   2.31361000e+01,\n",
       "          1.11284641e+02,   5.35279123e+02],\n",
       "       [  1.00000000e+00,   5.77000000e+00,   3.32929000e+01,\n",
       "          1.92100033e+02,   1.10841719e+03],\n",
       "       [  1.00000000e+00,   3.95000000e+00,   1.56025000e+01,\n",
       "          6.16298750e+01,   2.43438006e+02],\n",
       "       [  1.00000000e+00,   6.86000000e+00,   4.70596000e+01,\n",
       "          3.22828856e+02,   2.21460595e+03],\n",
       "       [  1.00000000e+00,   9.22000000e+00,   8.50084000e+01,\n",
       "          7.83777448e+02,   7.22642807e+03],\n",
       "       [  1.00000000e+00,   1.31500000e+01,   1.72922500e+02,\n",
       "          2.27393088e+03,   2.99021910e+04],\n",
       "       [  1.00000000e+00,   1.44400000e+01,   2.08513600e+02,\n",
       "          3.01093638e+03,   4.34779214e+04],\n",
       "       [  1.00000000e+00,   6.73000000e+00,   4.52929000e+01,\n",
       "          3.04821217e+02,   2.05144679e+03],\n",
       "       [  1.00000000e+00,   9.50000000e+00,   9.02500000e+01,\n",
       "          8.57375000e+02,   8.14506250e+03],\n",
       "       [  1.00000000e+00,   8.05000000e+00,   6.48025000e+01,\n",
       "          5.21660125e+02,   4.19936401e+03],\n",
       "       [  1.00000000e+00,   4.67000000e+00,   2.18089000e+01,\n",
       "          1.01847563e+02,   4.75628119e+02],\n",
       "       [  1.00000000e+00,   1.02400000e+01,   1.04857600e+02,\n",
       "          1.07374182e+03,   1.09951163e+04],\n",
       "       [  1.00000000e+00,   8.10000000e+00,   6.56100000e+01,\n",
       "          5.31441000e+02,   4.30467210e+03],\n",
       "       [  1.00000000e+00,   1.30900000e+01,   1.71348100e+02,\n",
       "          2.24294663e+03,   2.93601714e+04],\n",
       "       [  1.00000000e+00,   8.79000000e+00,   7.72641000e+01,\n",
       "          6.79151439e+02,   5.96974115e+03],\n",
       "       [  1.00000000e+00,   6.72000000e+00,   4.51584000e+01,\n",
       "          3.03464448e+02,   2.03928109e+03],\n",
       "       [  1.00000000e+00,   9.88000000e+00,   9.76144000e+01,\n",
       "          9.64430272e+02,   9.52857109e+03],\n",
       "       [  1.00000000e+00,   5.52000000e+00,   3.04704000e+01,\n",
       "          1.68196608e+02,   9.28445276e+02],\n",
       "       [  1.00000000e+00,   7.54000000e+00,   5.68516000e+01,\n",
       "          4.28661064e+02,   3.23210442e+03],\n",
       "       [  1.00000000e+00,   6.78000000e+00,   4.59684000e+01,\n",
       "          3.11665752e+02,   2.11309380e+03],\n",
       "       [  1.00000000e+00,   8.94000000e+00,   7.99236000e+01,\n",
       "          7.14516984e+02,   6.38778184e+03],\n",
       "       [  1.00000000e+00,   1.19700000e+01,   1.43280900e+02,\n",
       "          1.71507237e+03,   2.05294163e+04],\n",
       "       [  1.00000000e+00,   1.02700000e+01,   1.05472900e+02,\n",
       "          1.08320668e+03,   1.11245326e+04],\n",
       "       [  1.00000000e+00,   1.23400000e+01,   1.52275600e+02,\n",
       "          1.87908090e+03,   2.31878584e+04],\n",
       "       [  1.00000000e+00,   9.10000000e+00,   8.28100000e+01,\n",
       "          7.53571000e+02,   6.85749610e+03],\n",
       "       [  1.00000000e+00,   5.29000000e+00,   2.79841000e+01,\n",
       "          1.48035889e+02,   7.83109853e+02],\n",
       "       [  1.00000000e+00,   7.22000000e+00,   5.21284000e+01,\n",
       "          3.76367048e+02,   2.71737009e+03],\n",
       "       [  1.00000000e+00,   6.72000000e+00,   4.51584000e+01,\n",
       "          3.03464448e+02,   2.03928109e+03],\n",
       "       [  1.00000000e+00,   7.51000000e+00,   5.64001000e+01,\n",
       "          4.23564751e+02,   3.18097128e+03],\n",
       "       [  1.00000000e+00,   9.62000000e+00,   9.25444000e+01,\n",
       "          8.90277128e+02,   8.56446597e+03],\n",
       "       [  1.00000000e+00,   6.53000000e+00,   4.26409000e+01,\n",
       "          2.78445077e+02,   1.81824635e+03],\n",
       "       [  1.00000000e+00,   1.28600000e+01,   1.65379600e+02,\n",
       "          2.12678166e+03,   2.73504121e+04],\n",
       "       [  1.00000000e+00,   8.44000000e+00,   7.12336000e+01,\n",
       "          6.01211584e+02,   5.07422577e+03],\n",
       "       [  1.00000000e+00,   5.50000000e+00,   3.02500000e+01,\n",
       "          1.66375000e+02,   9.15062500e+02],\n",
       "       [  1.00000000e+00,   5.70000000e+00,   3.24900000e+01,\n",
       "          1.85193000e+02,   1.05560010e+03],\n",
       "       [  1.00000000e+00,   8.81000000e+00,   7.76161000e+01,\n",
       "          6.83797841e+02,   6.02425898e+03],\n",
       "       [  1.00000000e+00,   8.20000000e+00,   6.72400000e+01,\n",
       "          5.51368000e+02,   4.52121760e+03],\n",
       "       [  1.00000000e+00,   8.16000000e+00,   6.65856000e+01,\n",
       "          5.43338496e+02,   4.43364213e+03],\n",
       "       [  1.00000000e+00,   6.21000000e+00,   3.85641000e+01,\n",
       "          2.39483061e+02,   1.48718981e+03],\n",
       "       [  1.00000000e+00,   1.05900000e+01,   1.12148100e+02,\n",
       "          1.18764838e+03,   1.25771963e+04],\n",
       "       [  1.00000000e+00,   6.65000000e+00,   4.42225000e+01,\n",
       "          2.94079625e+02,   1.95562951e+03],\n",
       "       [  1.00000000e+00,   1.13400000e+01,   1.28595600e+02,\n",
       "          1.45827410e+03,   1.65368283e+04],\n",
       "       [  1.00000000e+00,   4.21000000e+00,   1.77241000e+01,\n",
       "          7.46184610e+01,   3.14143721e+02],\n",
       "       [  1.00000000e+00,   3.57000000e+00,   1.27449000e+01,\n",
       "          4.54992930e+01,   1.62432476e+02],\n",
       "       [  1.00000000e+00,   6.19000000e+00,   3.83161000e+01,\n",
       "          2.37176659e+02,   1.46812352e+03]])"
      ]
     },
     "execution_count": 34,
     "metadata": {},
     "output_type": "execute_result"
    }
   ],
   "source": [
    "x_4=degree_4.fit_transform(x[:,None])\n",
    "x_4"
   ]
  },
  {
   "cell_type": "code",
   "execution_count": 35,
   "metadata": {},
   "outputs": [
    {
     "data": {
      "text/plain": [
       "LinearRegression(copy_X=True, fit_intercept=True, n_jobs=1, normalize=False)"
      ]
     },
     "execution_count": 35,
     "metadata": {},
     "output_type": "execute_result"
    }
   ],
   "source": [
    "lin_4d = LinearRegression()\n",
    "lin_4d.fit(x_4,y)"
   ]
  },
  {
   "cell_type": "code",
   "execution_count": 36,
   "metadata": {},
   "outputs": [
    {
     "data": {
      "text/plain": [
       "[]"
      ]
     },
     "execution_count": 36,
     "metadata": {},
     "output_type": "execute_result"
    },
    {
     "data": {
      "image/png": "[encoded data removed]",
      "text/plain": [
       "<matplotlib.figure.Figure at 0x15c280966a0>"
      ]
     },
     "metadata": {},
     "output_type": "display_data"
    }
   ],
   "source": [
    "n = np.linspace(np.min(x),np.max(x), 1000)\n",
    "y_4d_fit=lin_4d.predict(degree_4.fit_transform(n[:,np.newaxis]))\n",
    "y_3d_fit=lin_3d.predict(degree_3.fit_transform(n[:,np.newaxis]))\n",
    "y_2d_fit=lin_2d.predict(degree_2.fit_transform(n[:,np.newaxis]))\n",
    "y_1d_fit=lin_1d.predict(n[:,np.newaxis])\n",
    "\n",
    "plt.title(\"Boston House Price\")\n",
    "plt.scatter(x,y,label='data')\n",
    "plt.plot(n,y_4d_fit,'y',label='4d_lin')\n",
    "plt.plot(n,y_3d_fit,'b',label='3d_lin')\n",
    "plt.plot(n,y_2d_fit,'g',label='2d_lin')\n",
    "plt.plot(n,y_1d_fit,'r',label='1d_lin')\n",
    "plt.ylim(10,40)#グラフを見やすくするためにｙ軸のプロット範囲を絞ります。\n",
    "plt.xlabel(\"LSTAT\")\n",
    "plt.ylabel(\"price\")\n",
    "plt.legend()\n",
    "plt.plot()"
   ]
  },
  {
   "cell_type": "code",
   "execution_count": 37,
   "metadata": {},
   "outputs": [
    {
     "data": {
      "text/plain": [
       "15.537906007479371"
      ]
     },
     "execution_count": 37,
     "metadata": {},
     "output_type": "execute_result"
    }
   ],
   "source": [
    "mean_squared_error(y,lin_1d.predict(x[:,None]))"
   ]
  },
  {
   "cell_type": "code",
   "execution_count": 38,
   "metadata": {},
   "outputs": [
    {
     "data": {
      "text/plain": [
       "10.920226905348915"
      ]
     },
     "execution_count": 38,
     "metadata": {},
     "output_type": "execute_result"
    }
   ],
   "source": [
    "mean_squared_error(y,lin_2d.predict(x_2))"
   ]
  },
  {
   "cell_type": "code",
   "execution_count": 39,
   "metadata": {},
   "outputs": [
    {
     "data": {
      "text/plain": [
       "10.055225709746381"
      ]
     },
     "execution_count": 39,
     "metadata": {},
     "output_type": "execute_result"
    }
   ],
   "source": [
    "mean_squared_error(y,lin_3d.predict(x_3))"
   ]
  },
  {
   "cell_type": "code",
   "execution_count": 40,
   "metadata": {},
   "outputs": [
    {
     "data": {
      "text/plain": [
       "9.6173907154166862"
      ]
     },
     "execution_count": 40,
     "metadata": {},
     "output_type": "execute_result"
    }
   ],
   "source": [
    "mean_squared_error(y,lin_4d.predict(x_4))"
   ]
  },
  {
   "cell_type": "code",
   "execution_count": 41,
   "metadata": {
    "collapsed": true
   },
   "outputs": [],
   "source": [
    "x=X['AGE'].values"
   ]
  },
  {
   "cell_type": "code",
   "execution_count": 42,
   "metadata": {},
   "outputs": [
    {
     "data": {
      "text/plain": [
       "<matplotlib.collections.PathCollection at 0x15c281a14a8>"
      ]
     },
     "execution_count": 42,
     "metadata": {},
     "output_type": "execute_result"
    },
    {
     "data": {
      "image/png": "[encoded data removed]",
      "text/plain": [
       "<matplotlib.figure.Figure at 0x15c27cf8828>"
      ]
     },
     "metadata": {},
     "output_type": "display_data"
    }
   ],
   "source": [
    "plt.scatter(x,y)"
   ]
  },
  {
   "cell_type": "code",
   "execution_count": 43,
   "metadata": {
    "collapsed": true
   },
   "outputs": [],
   "source": [
    "lin_1d=LinearRegression()"
   ]
  },
  {
   "cell_type": "code",
   "execution_count": 44,
   "metadata": {},
   "outputs": [
    {
     "data": {
      "text/plain": [
       "LinearRegression(copy_X=True, fit_intercept=True, n_jobs=1, normalize=False)"
      ]
     },
     "execution_count": 44,
     "metadata": {},
     "output_type": "execute_result"
    }
   ],
   "source": [
    "lin_1d.fit(x[:,None],y)"
   ]
  },
  {
   "cell_type": "code",
   "execution_count": 45,
   "metadata": {},
   "outputs": [
    {
     "data": {
      "text/plain": [
       "array([ 27.93400253])"
      ]
     },
     "execution_count": 45,
     "metadata": {},
     "output_type": "execute_result"
    }
   ],
   "source": [
    "lin_1d.predict(2)"
   ]
  },
  {
   "cell_type": "code",
   "execution_count": 46,
   "metadata": {},
   "outputs": [
    {
     "data": {
      "text/plain": [
       "array([ 17.77308224])"
      ]
     },
     "execution_count": 46,
     "metadata": {},
     "output_type": "execute_result"
    }
   ],
   "source": [
    "lin_1d.predict(100)"
   ]
  },
  {
   "cell_type": "code",
   "execution_count": 47,
   "metadata": {
    "collapsed": true
   },
   "outputs": [],
   "source": [
    "n=np.linspace(np.min(x),np.max(x),1000)\n",
    "y_1d_fit=lin_1d.predict(n[:,np.newaxis])"
   ]
  },
  {
   "cell_type": "code",
   "execution_count": 48,
   "metadata": {},
   "outputs": [
    {
     "data": {
      "text/plain": [
       "[]"
      ]
     },
     "execution_count": 48,
     "metadata": {},
     "output_type": "execute_result"
    },
    {
     "data": {
      "image/png": "[encoded data removed]",
      "text/plain": [
       "<matplotlib.figure.Figure at 0x15c28168518>"
      ]
     },
     "metadata": {},
     "output_type": "display_data"
    }
   ],
   "source": [
    "plt.title(\"Boston House Price\")\n",
    "plt.scatter(x,y,label='data')\n",
    "plt.plot(n,y_1d_fit,'r',label='1d_lin')\n",
    "plt.ylim(10,40)\n",
    "plt.xlabel('Age')\n",
    "plt.ylabel('price')\n",
    "plt.legend()\n",
    "plt.plot()"
   ]
  },
  {
   "cell_type": "code",
   "execution_count": 49,
   "metadata": {},
   "outputs": [
    {
     "data": {
      "text/plain": [
       "array([ 21.92039664])"
      ]
     },
     "execution_count": 49,
     "metadata": {},
     "output_type": "execute_result"
    }
   ],
   "source": [
    "lin_1d.predict(60)"
   ]
  },
  {
   "cell_type": "code",
   "execution_count": 50,
   "metadata": {},
   "outputs": [
    {
     "data": {
      "text/plain": [
       "array([ 26.06771105])"
      ]
     },
     "execution_count": 50,
     "metadata": {},
     "output_type": "execute_result"
    }
   ],
   "source": [
    "lin_1d.predict(20)"
   ]
  },
  {
   "cell_type": "code",
   "execution_count": 51,
   "metadata": {
    "collapsed": true
   },
   "outputs": [],
   "source": [
    "degree_2=PolynomialFeatures(degree=2)"
   ]
  },
  {
   "cell_type": "code",
   "execution_count": 52,
   "metadata": {
    "collapsed": true
   },
   "outputs": [],
   "source": [
    "x_2=degree_2.fit_transform(x[:,None])"
   ]
  },
  {
   "cell_type": "code",
   "execution_count": 53,
   "metadata": {},
   "outputs": [
    {
     "data": {
      "text/plain": [
       "array([[  1.00000000e+00,   6.52000000e+01,   4.25104000e+03],\n",
       "       [  1.00000000e+00,   7.89000000e+01,   6.22521000e+03],\n",
       "       [  1.00000000e+00,   6.11000000e+01,   3.73321000e+03],\n",
       "       [  1.00000000e+00,   4.58000000e+01,   2.09764000e+03],\n",
       "       [  1.00000000e+00,   5.42000000e+01,   2.93764000e+03],\n",
       "       [  1.00000000e+00,   5.87000000e+01,   3.44569000e+03],\n",
       "       [  1.00000000e+00,   6.66000000e+01,   4.43556000e+03],\n",
       "       [  1.00000000e+00,   9.61000000e+01,   9.23521000e+03],\n",
       "       [  1.00000000e+00,   1.00000000e+02,   1.00000000e+04],\n",
       "       [  1.00000000e+00,   8.59000000e+01,   7.37881000e+03],\n",
       "       [  1.00000000e+00,   9.43000000e+01,   8.89249000e+03],\n",
       "       [  1.00000000e+00,   8.29000000e+01,   6.87241000e+03],\n",
       "       [  1.00000000e+00,   3.90000000e+01,   1.52100000e+03],\n",
       "       [  1.00000000e+00,   6.18000000e+01,   3.81924000e+03],\n",
       "       [  1.00000000e+00,   8.45000000e+01,   7.14025000e+03],\n",
       "       [  1.00000000e+00,   5.65000000e+01,   3.19225000e+03],\n",
       "       [  1.00000000e+00,   2.93000000e+01,   8.58490000e+02],\n",
       "       [  1.00000000e+00,   8.17000000e+01,   6.67489000e+03],\n",
       "       [  1.00000000e+00,   3.66000000e+01,   1.33956000e+03],\n",
       "       [  1.00000000e+00,   6.95000000e+01,   4.83025000e+03],\n",
       "       [  1.00000000e+00,   9.81000000e+01,   9.62361000e+03],\n",
       "       [  1.00000000e+00,   8.92000000e+01,   7.95664000e+03],\n",
       "       [  1.00000000e+00,   9.17000000e+01,   8.40889000e+03],\n",
       "       [  1.00000000e+00,   1.00000000e+02,   1.00000000e+04],\n",
       "       [  1.00000000e+00,   9.41000000e+01,   8.85481000e+03],\n",
       "       [  1.00000000e+00,   8.57000000e+01,   7.34449000e+03],\n",
       "       [  1.00000000e+00,   9.03000000e+01,   8.15409000e+03],\n",
       "       [  1.00000000e+00,   8.88000000e+01,   7.88544000e+03],\n",
       "       [  1.00000000e+00,   9.44000000e+01,   8.91136000e+03],\n",
       "       [  1.00000000e+00,   8.73000000e+01,   7.62129000e+03],\n",
       "       [  1.00000000e+00,   9.41000000e+01,   8.85481000e+03],\n",
       "       [  1.00000000e+00,   1.00000000e+02,   1.00000000e+04],\n",
       "       [  1.00000000e+00,   8.20000000e+01,   6.72400000e+03],\n",
       "       [  1.00000000e+00,   9.50000000e+01,   9.02500000e+03],\n",
       "       [  1.00000000e+00,   9.69000000e+01,   9.38961000e+03],\n",
       "       [  1.00000000e+00,   6.82000000e+01,   4.65124000e+03],\n",
       "       [  1.00000000e+00,   6.14000000e+01,   3.76996000e+03],\n",
       "       [  1.00000000e+00,   4.15000000e+01,   1.72225000e+03],\n",
       "       [  1.00000000e+00,   3.02000000e+01,   9.12040000e+02],\n",
       "       [  1.00000000e+00,   2.18000000e+01,   4.75240000e+02],\n",
       "       [  1.00000000e+00,   1.58000000e+01,   2.49640000e+02],\n",
       "       [  1.00000000e+00,   2.90000000e+00,   8.41000000e+00],\n",
       "       [  1.00000000e+00,   6.60000000e+00,   4.35600000e+01],\n",
       "       [  1.00000000e+00,   6.50000000e+00,   4.22500000e+01],\n",
       "       [  1.00000000e+00,   4.00000000e+01,   1.60000000e+03],\n",
       "       [  1.00000000e+00,   3.38000000e+01,   1.14244000e+03],\n",
       "       [  1.00000000e+00,   3.33000000e+01,   1.10889000e+03],\n",
       "       [  1.00000000e+00,   8.55000000e+01,   7.31025000e+03],\n",
       "       [  1.00000000e+00,   9.53000000e+01,   9.08209000e+03],\n",
       "       [  1.00000000e+00,   6.20000000e+01,   3.84400000e+03],\n",
       "       [  1.00000000e+00,   4.57000000e+01,   2.08849000e+03],\n",
       "       [  1.00000000e+00,   6.30000000e+01,   3.96900000e+03],\n",
       "       [  1.00000000e+00,   2.11000000e+01,   4.45210000e+02],\n",
       "       [  1.00000000e+00,   2.14000000e+01,   4.57960000e+02],\n",
       "       [  1.00000000e+00,   4.76000000e+01,   2.26576000e+03],\n",
       "       [  1.00000000e+00,   2.19000000e+01,   4.79610000e+02],\n",
       "       [  1.00000000e+00,   3.57000000e+01,   1.27449000e+03],\n",
       "       [  1.00000000e+00,   4.05000000e+01,   1.64025000e+03],\n",
       "       [  1.00000000e+00,   2.92000000e+01,   8.52640000e+02],\n",
       "       [  1.00000000e+00,   4.72000000e+01,   2.22784000e+03],\n",
       "       [  1.00000000e+00,   6.62000000e+01,   4.38244000e+03],\n",
       "       [  1.00000000e+00,   9.34000000e+01,   8.72356000e+03],\n",
       "       [  1.00000000e+00,   6.78000000e+01,   4.59684000e+03],\n",
       "       [  1.00000000e+00,   4.34000000e+01,   1.88356000e+03],\n",
       "       [  1.00000000e+00,   5.95000000e+01,   3.54025000e+03],\n",
       "       [  1.00000000e+00,   1.78000000e+01,   3.16840000e+02],\n",
       "       [  1.00000000e+00,   3.11000000e+01,   9.67210000e+02],\n",
       "       [  1.00000000e+00,   2.14000000e+01,   4.57960000e+02],\n",
       "       [  1.00000000e+00,   3.68000000e+01,   1.35424000e+03],\n",
       "       [  1.00000000e+00,   3.30000000e+01,   1.08900000e+03],\n",
       "       [  1.00000000e+00,   6.60000000e+00,   4.35600000e+01],\n",
       "       [  1.00000000e+00,   1.75000000e+01,   3.06250000e+02],\n",
       "       [  1.00000000e+00,   7.80000000e+00,   6.08400000e+01],\n",
       "       [  1.00000000e+00,   6.20000000e+00,   3.84400000e+01],\n",
       "       [  1.00000000e+00,   6.00000000e+00,   3.60000000e+01],\n",
       "       [  1.00000000e+00,   4.50000000e+01,   2.02500000e+03],\n",
       "       [  1.00000000e+00,   7.45000000e+01,   5.55025000e+03],\n",
       "       [  1.00000000e+00,   4.58000000e+01,   2.09764000e+03],\n",
       "       [  1.00000000e+00,   5.37000000e+01,   2.88369000e+03],\n",
       "       [  1.00000000e+00,   3.66000000e+01,   1.33956000e+03],\n",
       "       [  1.00000000e+00,   3.35000000e+01,   1.12225000e+03],\n",
       "       [  1.00000000e+00,   7.04000000e+01,   4.95616000e+03],\n",
       "       [  1.00000000e+00,   3.22000000e+01,   1.03684000e+03],\n",
       "       [  1.00000000e+00,   4.67000000e+01,   2.18089000e+03],\n",
       "       [  1.00000000e+00,   4.80000000e+01,   2.30400000e+03],\n",
       "       [  1.00000000e+00,   5.61000000e+01,   3.14721000e+03],\n",
       "       [  1.00000000e+00,   4.51000000e+01,   2.03401000e+03],\n",
       "       [  1.00000000e+00,   5.68000000e+01,   3.22624000e+03],\n",
       "       [  1.00000000e+00,   8.63000000e+01,   7.44769000e+03],\n",
       "       [  1.00000000e+00,   6.31000000e+01,   3.98161000e+03],\n",
       "       [  1.00000000e+00,   6.61000000e+01,   4.36921000e+03],\n",
       "       [  1.00000000e+00,   7.39000000e+01,   5.46121000e+03],\n",
       "       [  1.00000000e+00,   5.36000000e+01,   2.87296000e+03],\n",
       "       [  1.00000000e+00,   2.89000000e+01,   8.35210000e+02],\n",
       "       [  1.00000000e+00,   7.73000000e+01,   5.97529000e+03],\n",
       "       [  1.00000000e+00,   5.78000000e+01,   3.34084000e+03],\n",
       "       [  1.00000000e+00,   6.96000000e+01,   4.84416000e+03],\n",
       "       [  1.00000000e+00,   7.60000000e+01,   5.77600000e+03],\n",
       "       [  1.00000000e+00,   3.69000000e+01,   1.36161000e+03],\n",
       "       [  1.00000000e+00,   6.25000000e+01,   3.90625000e+03]])"
      ]
     },
     "execution_count": 53,
     "metadata": {},
     "output_type": "execute_result"
    }
   ],
   "source": [
    "x_2"
   ]
  },
  {
   "cell_type": "code",
   "execution_count": 54,
   "metadata": {},
   "outputs": [
    {
     "data": {
      "text/plain": [
       "LinearRegression(copy_X=True, fit_intercept=True, n_jobs=1, normalize=False)"
      ]
     },
     "execution_count": 54,
     "metadata": {},
     "output_type": "execute_result"
    }
   ],
   "source": [
    "lin_2d=LinearRegression()\n",
    "lin_2d.fit(x_2,y)"
   ]
  },
  {
   "cell_type": "code",
   "execution_count": 55,
   "metadata": {
    "collapsed": true
   },
   "outputs": [],
   "source": [
    "n=np.linspace(np.min(x),np.max(x),1000)\n",
    "y_2d_fit=lin_2d.predict(degree_2.fit_transform(n[:,np.newaxis]))\n",
    "y_1d_fit=lin_1d.predict(n[:,np.newaxis])"
   ]
  },
  {
   "cell_type": "code",
   "execution_count": 56,
   "metadata": {},
   "outputs": [
    {
     "data": {
      "text/plain": [
       "[]"
      ]
     },
     "execution_count": 56,
     "metadata": {},
     "output_type": "execute_result"
    },
    {
     "data": {
      "image/png": "[encoded data removed]",
      "text/plain": [
       "<matplotlib.figure.Figure at 0x15c281ff3c8>"
      ]
     },
     "metadata": {},
     "output_type": "display_data"
    }
   ],
   "source": [
    "plt.title('Boston House Price')\n",
    "plt.scatter(x,y,label='data')\n",
    "plt.plot(n,y_2d_fit,'g',label='2d_lin')\n",
    "plt.plot(n,y_1d_fit,'r',label='1d_lin')\n",
    "plt.ylim(10,40)\n",
    "plt.xlabel('AGE')\n",
    "plt.ylabel('price')\n",
    "plt.legend()\n",
    "plt.plot()"
   ]
  },
  {
   "cell_type": "code",
   "execution_count": 57,
   "metadata": {
    "collapsed": true
   },
   "outputs": [],
   "source": [
    "from sklearn.metrics import mean_squared_error"
   ]
  },
  {
   "cell_type": "code",
   "execution_count": 58,
   "metadata": {},
   "outputs": [
    {
     "data": {
      "text/plain": [
       "26.754508704139507"
      ]
     },
     "execution_count": 58,
     "metadata": {},
     "output_type": "execute_result"
    }
   ],
   "source": [
    "mean_squared_error(y,lin_1d.predict(x[:,None]))"
   ]
  },
  {
   "cell_type": "code",
   "execution_count": 59,
   "metadata": {},
   "outputs": [
    {
     "data": {
      "text/plain": [
       "24.397088136515954"
      ]
     },
     "execution_count": 59,
     "metadata": {},
     "output_type": "execute_result"
    }
   ],
   "source": [
    "mean_squared_error(y,lin_2d.predict(x_2))"
   ]
  },
  {
   "cell_type": "code",
   "execution_count": 60,
   "metadata": {
    "collapsed": true
   },
   "outputs": [],
   "source": [
    "degree_3=PolynomialFeatures(degree=3)"
   ]
  },
  {
   "cell_type": "code",
   "execution_count": 61,
   "metadata": {
    "collapsed": true
   },
   "outputs": [],
   "source": [
    "x_3=degree_3.fit_transform(x[:,None])"
   ]
  },
  {
   "cell_type": "code",
   "execution_count": 62,
   "metadata": {},
   "outputs": [
    {
     "data": {
      "text/plain": [
       "array([[  1.00000000e+00,   6.52000000e+01,   4.25104000e+03,\n",
       "          2.77167808e+05],\n",
       "       [  1.00000000e+00,   7.89000000e+01,   6.22521000e+03,\n",
       "          4.91169069e+05],\n",
       "       [  1.00000000e+00,   6.11000000e+01,   3.73321000e+03,\n",
       "          2.28099131e+05],\n",
       "       [  1.00000000e+00,   4.58000000e+01,   2.09764000e+03,\n",
       "          9.60719120e+04],\n",
       "       [  1.00000000e+00,   5.42000000e+01,   2.93764000e+03,\n",
       "          1.59220088e+05],\n",
       "       [  1.00000000e+00,   5.87000000e+01,   3.44569000e+03,\n",
       "          2.02262003e+05],\n",
       "       [  1.00000000e+00,   6.66000000e+01,   4.43556000e+03,\n",
       "          2.95408296e+05],\n",
       "       [  1.00000000e+00,   9.61000000e+01,   9.23521000e+03,\n",
       "          8.87503681e+05],\n",
       "       [  1.00000000e+00,   1.00000000e+02,   1.00000000e+04,\n",
       "          1.00000000e+06],\n",
       "       [  1.00000000e+00,   8.59000000e+01,   7.37881000e+03,\n",
       "          6.33839779e+05],\n",
       "       [  1.00000000e+00,   9.43000000e+01,   8.89249000e+03,\n",
       "          8.38561807e+05],\n",
       "       [  1.00000000e+00,   8.29000000e+01,   6.87241000e+03,\n",
       "          5.69722789e+05],\n",
       "       [  1.00000000e+00,   3.90000000e+01,   1.52100000e+03,\n",
       "          5.93190000e+04],\n",
       "       [  1.00000000e+00,   6.18000000e+01,   3.81924000e+03,\n",
       "          2.36029032e+05],\n",
       "       [  1.00000000e+00,   8.45000000e+01,   7.14025000e+03,\n",
       "          6.03351125e+05],\n",
       "       [  1.00000000e+00,   5.65000000e+01,   3.19225000e+03,\n",
       "          1.80362125e+05],\n",
       "       [  1.00000000e+00,   2.93000000e+01,   8.58490000e+02,\n",
       "          2.51537570e+04],\n",
       "       [  1.00000000e+00,   8.17000000e+01,   6.67489000e+03,\n",
       "          5.45338513e+05],\n",
       "       [  1.00000000e+00,   3.66000000e+01,   1.33956000e+03,\n",
       "          4.90278960e+04],\n",
       "       [  1.00000000e+00,   6.95000000e+01,   4.83025000e+03,\n",
       "          3.35702375e+05],\n",
       "       [  1.00000000e+00,   9.81000000e+01,   9.62361000e+03,\n",
       "          9.44076141e+05],\n",
       "       [  1.00000000e+00,   8.92000000e+01,   7.95664000e+03,\n",
       "          7.09732288e+05],\n",
       "       [  1.00000000e+00,   9.17000000e+01,   8.40889000e+03,\n",
       "          7.71095213e+05],\n",
       "       [  1.00000000e+00,   1.00000000e+02,   1.00000000e+04,\n",
       "          1.00000000e+06],\n",
       "       [  1.00000000e+00,   9.41000000e+01,   8.85481000e+03,\n",
       "          8.33237621e+05],\n",
       "       [  1.00000000e+00,   8.57000000e+01,   7.34449000e+03,\n",
       "          6.29422793e+05],\n",
       "       [  1.00000000e+00,   9.03000000e+01,   8.15409000e+03,\n",
       "          7.36314327e+05],\n",
       "       [  1.00000000e+00,   8.88000000e+01,   7.88544000e+03,\n",
       "          7.00227072e+05],\n",
       "       [  1.00000000e+00,   9.44000000e+01,   8.91136000e+03,\n",
       "          8.41232384e+05],\n",
       "       [  1.00000000e+00,   8.73000000e+01,   7.62129000e+03,\n",
       "          6.65338617e+05],\n",
       "       [  1.00000000e+00,   9.41000000e+01,   8.85481000e+03,\n",
       "          8.33237621e+05],\n",
       "       [  1.00000000e+00,   1.00000000e+02,   1.00000000e+04,\n",
       "          1.00000000e+06],\n",
       "       [  1.00000000e+00,   8.20000000e+01,   6.72400000e+03,\n",
       "          5.51368000e+05],\n",
       "       [  1.00000000e+00,   9.50000000e+01,   9.02500000e+03,\n",
       "          8.57375000e+05],\n",
       "       [  1.00000000e+00,   9.69000000e+01,   9.38961000e+03,\n",
       "          9.09853209e+05],\n",
       "       [  1.00000000e+00,   6.82000000e+01,   4.65124000e+03,\n",
       "          3.17214568e+05],\n",
       "       [  1.00000000e+00,   6.14000000e+01,   3.76996000e+03,\n",
       "          2.31475544e+05],\n",
       "       [  1.00000000e+00,   4.15000000e+01,   1.72225000e+03,\n",
       "          7.14733750e+04],\n",
       "       [  1.00000000e+00,   3.02000000e+01,   9.12040000e+02,\n",
       "          2.75436080e+04],\n",
       "       [  1.00000000e+00,   2.18000000e+01,   4.75240000e+02,\n",
       "          1.03602320e+04],\n",
       "       [  1.00000000e+00,   1.58000000e+01,   2.49640000e+02,\n",
       "          3.94431200e+03],\n",
       "       [  1.00000000e+00,   2.90000000e+00,   8.41000000e+00,\n",
       "          2.43890000e+01],\n",
       "       [  1.00000000e+00,   6.60000000e+00,   4.35600000e+01,\n",
       "          2.87496000e+02],\n",
       "       [  1.00000000e+00,   6.50000000e+00,   4.22500000e+01,\n",
       "          2.74625000e+02],\n",
       "       [  1.00000000e+00,   4.00000000e+01,   1.60000000e+03,\n",
       "          6.40000000e+04],\n",
       "       [  1.00000000e+00,   3.38000000e+01,   1.14244000e+03,\n",
       "          3.86144720e+04],\n",
       "       [  1.00000000e+00,   3.33000000e+01,   1.10889000e+03,\n",
       "          3.69260370e+04],\n",
       "       [  1.00000000e+00,   8.55000000e+01,   7.31025000e+03,\n",
       "          6.25026375e+05],\n",
       "       [  1.00000000e+00,   9.53000000e+01,   9.08209000e+03,\n",
       "          8.65523177e+05],\n",
       "       [  1.00000000e+00,   6.20000000e+01,   3.84400000e+03,\n",
       "          2.38328000e+05],\n",
       "       [  1.00000000e+00,   4.57000000e+01,   2.08849000e+03,\n",
       "          9.54439930e+04],\n",
       "       [  1.00000000e+00,   6.30000000e+01,   3.96900000e+03,\n",
       "          2.50047000e+05],\n",
       "       [  1.00000000e+00,   2.11000000e+01,   4.45210000e+02,\n",
       "          9.39393100e+03],\n",
       "       [  1.00000000e+00,   2.14000000e+01,   4.57960000e+02,\n",
       "          9.80034400e+03],\n",
       "       [  1.00000000e+00,   4.76000000e+01,   2.26576000e+03,\n",
       "          1.07850176e+05],\n",
       "       [  1.00000000e+00,   2.19000000e+01,   4.79610000e+02,\n",
       "          1.05034590e+04],\n",
       "       [  1.00000000e+00,   3.57000000e+01,   1.27449000e+03,\n",
       "          4.54992930e+04],\n",
       "       [  1.00000000e+00,   4.05000000e+01,   1.64025000e+03,\n",
       "          6.64301250e+04],\n",
       "       [  1.00000000e+00,   2.92000000e+01,   8.52640000e+02,\n",
       "          2.48970880e+04],\n",
       "       [  1.00000000e+00,   4.72000000e+01,   2.22784000e+03,\n",
       "          1.05154048e+05],\n",
       "       [  1.00000000e+00,   6.62000000e+01,   4.38244000e+03,\n",
       "          2.90117528e+05],\n",
       "       [  1.00000000e+00,   9.34000000e+01,   8.72356000e+03,\n",
       "          8.14780504e+05],\n",
       "       [  1.00000000e+00,   6.78000000e+01,   4.59684000e+03,\n",
       "          3.11665752e+05],\n",
       "       [  1.00000000e+00,   4.34000000e+01,   1.88356000e+03,\n",
       "          8.17465040e+04],\n",
       "       [  1.00000000e+00,   5.95000000e+01,   3.54025000e+03,\n",
       "          2.10644875e+05],\n",
       "       [  1.00000000e+00,   1.78000000e+01,   3.16840000e+02,\n",
       "          5.63975200e+03],\n",
       "       [  1.00000000e+00,   3.11000000e+01,   9.67210000e+02,\n",
       "          3.00802310e+04],\n",
       "       [  1.00000000e+00,   2.14000000e+01,   4.57960000e+02,\n",
       "          9.80034400e+03],\n",
       "       [  1.00000000e+00,   3.68000000e+01,   1.35424000e+03,\n",
       "          4.98360320e+04],\n",
       "       [  1.00000000e+00,   3.30000000e+01,   1.08900000e+03,\n",
       "          3.59370000e+04],\n",
       "       [  1.00000000e+00,   6.60000000e+00,   4.35600000e+01,\n",
       "          2.87496000e+02],\n",
       "       [  1.00000000e+00,   1.75000000e+01,   3.06250000e+02,\n",
       "          5.35937500e+03],\n",
       "       [  1.00000000e+00,   7.80000000e+00,   6.08400000e+01,\n",
       "          4.74552000e+02],\n",
       "       [  1.00000000e+00,   6.20000000e+00,   3.84400000e+01,\n",
       "          2.38328000e+02],\n",
       "       [  1.00000000e+00,   6.00000000e+00,   3.60000000e+01,\n",
       "          2.16000000e+02],\n",
       "       [  1.00000000e+00,   4.50000000e+01,   2.02500000e+03,\n",
       "          9.11250000e+04],\n",
       "       [  1.00000000e+00,   7.45000000e+01,   5.55025000e+03,\n",
       "          4.13493625e+05],\n",
       "       [  1.00000000e+00,   4.58000000e+01,   2.09764000e+03,\n",
       "          9.60719120e+04],\n",
       "       [  1.00000000e+00,   5.37000000e+01,   2.88369000e+03,\n",
       "          1.54854153e+05],\n",
       "       [  1.00000000e+00,   3.66000000e+01,   1.33956000e+03,\n",
       "          4.90278960e+04],\n",
       "       [  1.00000000e+00,   3.35000000e+01,   1.12225000e+03,\n",
       "          3.75953750e+04],\n",
       "       [  1.00000000e+00,   7.04000000e+01,   4.95616000e+03,\n",
       "          3.48913664e+05],\n",
       "       [  1.00000000e+00,   3.22000000e+01,   1.03684000e+03,\n",
       "          3.33862480e+04],\n",
       "       [  1.00000000e+00,   4.67000000e+01,   2.18089000e+03,\n",
       "          1.01847563e+05],\n",
       "       [  1.00000000e+00,   4.80000000e+01,   2.30400000e+03,\n",
       "          1.10592000e+05],\n",
       "       [  1.00000000e+00,   5.61000000e+01,   3.14721000e+03,\n",
       "          1.76558481e+05],\n",
       "       [  1.00000000e+00,   4.51000000e+01,   2.03401000e+03,\n",
       "          9.17338510e+04],\n",
       "       [  1.00000000e+00,   5.68000000e+01,   3.22624000e+03,\n",
       "          1.83250432e+05],\n",
       "       [  1.00000000e+00,   8.63000000e+01,   7.44769000e+03,\n",
       "          6.42735647e+05],\n",
       "       [  1.00000000e+00,   6.31000000e+01,   3.98161000e+03,\n",
       "          2.51239591e+05],\n",
       "       [  1.00000000e+00,   6.61000000e+01,   4.36921000e+03,\n",
       "          2.88804781e+05],\n",
       "       [  1.00000000e+00,   7.39000000e+01,   5.46121000e+03,\n",
       "          4.03583419e+05],\n",
       "       [  1.00000000e+00,   5.36000000e+01,   2.87296000e+03,\n",
       "          1.53990656e+05],\n",
       "       [  1.00000000e+00,   2.89000000e+01,   8.35210000e+02,\n",
       "          2.41375690e+04],\n",
       "       [  1.00000000e+00,   7.73000000e+01,   5.97529000e+03,\n",
       "          4.61889917e+05],\n",
       "       [  1.00000000e+00,   5.78000000e+01,   3.34084000e+03,\n",
       "          1.93100552e+05],\n",
       "       [  1.00000000e+00,   6.96000000e+01,   4.84416000e+03,\n",
       "          3.37153536e+05],\n",
       "       [  1.00000000e+00,   7.60000000e+01,   5.77600000e+03,\n",
       "          4.38976000e+05],\n",
       "       [  1.00000000e+00,   3.69000000e+01,   1.36161000e+03,\n",
       "          5.02434090e+04],\n",
       "       [  1.00000000e+00,   6.25000000e+01,   3.90625000e+03,\n",
       "          2.44140625e+05]])"
      ]
     },
     "execution_count": 62,
     "metadata": {},
     "output_type": "execute_result"
    }
   ],
   "source": [
    "x_3"
   ]
  },
  {
   "cell_type": "code",
   "execution_count": 63,
   "metadata": {},
   "outputs": [
    {
     "data": {
      "text/plain": [
       "LinearRegression(copy_X=True, fit_intercept=True, n_jobs=1, normalize=False)"
      ]
     },
     "execution_count": 63,
     "metadata": {},
     "output_type": "execute_result"
    }
   ],
   "source": [
    "lin_3d=LinearRegression()\n",
    "lin_3d.fit(x_3,y)"
   ]
  },
  {
   "cell_type": "code",
   "execution_count": 64,
   "metadata": {
    "collapsed": true
   },
   "outputs": [],
   "source": [
    "n=np.linspace(np.min(x),np.max(x),1000)"
   ]
  },
  {
   "cell_type": "code",
   "execution_count": 65,
   "metadata": {
    "collapsed": true
   },
   "outputs": [],
   "source": [
    "y_3d_fit=lin_3d.predict(degree_3.fit_transform(n[:,np.newaxis]))"
   ]
  },
  {
   "cell_type": "code",
   "execution_count": 66,
   "metadata": {
    "collapsed": true
   },
   "outputs": [],
   "source": [
    "y_2d_fit=lin_2d.predict(degree_2.fit_transform(n[:,np.newaxis]))"
   ]
  },
  {
   "cell_type": "code",
   "execution_count": 67,
   "metadata": {
    "collapsed": true
   },
   "outputs": [],
   "source": [
    "y_1d_fit=lin_1d.predict(n[:,np.newaxis])"
   ]
  },
  {
   "cell_type": "code",
   "execution_count": 68,
   "metadata": {},
   "outputs": [
    {
     "data": {
      "text/plain": [
       "[]"
      ]
     },
     "execution_count": 68,
     "metadata": {},
     "output_type": "execute_result"
    },
    {
     "data": {
      "image/png": "[encoded data removed]",
      "text/plain": [
       "<matplotlib.figure.Figure at 0x15c2829d400>"
      ]
     },
     "metadata": {},
     "output_type": "display_data"
    }
   ],
   "source": [
    "plt.title('Boston House Price')\n",
    "plt.scatter(x,y,label='data')\n",
    "plt.plot(n,y_3d_fit,'b',label='3d_lin')\n",
    "plt.plot(n,y_2d_fit,'g',label='2d_lin')\n",
    "plt.plot(n,y_1d_fit,'r',label='1d_lin')\n",
    "plt.ylim(10,40)\n",
    "plt.xlabel('AGE')\n",
    "plt.ylabel('price')\n",
    "plt.legend()\n",
    "plt.plot()"
   ]
  },
  {
   "cell_type": "code",
   "execution_count": 69,
   "metadata": {},
   "outputs": [
    {
     "data": {
      "text/plain": [
       "26.754508704139507"
      ]
     },
     "execution_count": 69,
     "metadata": {},
     "output_type": "execute_result"
    }
   ],
   "source": [
    "mean_squared_error(y,lin_1d.predict(x[:,None]))"
   ]
  },
  {
   "cell_type": "code",
   "execution_count": 70,
   "metadata": {},
   "outputs": [
    {
     "data": {
      "text/plain": [
       "24.397088136515954"
      ]
     },
     "execution_count": 70,
     "metadata": {},
     "output_type": "execute_result"
    }
   ],
   "source": [
    "mean_squared_error(y,lin_2d.predict(x_2))"
   ]
  },
  {
   "cell_type": "code",
   "execution_count": 71,
   "metadata": {},
   "outputs": [
    {
     "data": {
      "text/plain": [
       "23.978242199677435"
      ]
     },
     "execution_count": 71,
     "metadata": {},
     "output_type": "execute_result"
    }
   ],
   "source": [
    "mean_squared_error(y,lin_3d.predict(x_3))"
   ]
  },
  {
   "cell_type": "code",
   "execution_count": 72,
   "metadata": {
    "collapsed": true
   },
   "outputs": [],
   "source": [
    "degree_4=PolynomialFeatures(degree=4)"
   ]
  },
  {
   "cell_type": "code",
   "execution_count": 73,
   "metadata": {
    "collapsed": true
   },
   "outputs": [],
   "source": [
    "x_4=degree_4.fit_transform(x[:,None])"
   ]
  },
  {
   "cell_type": "code",
   "execution_count": 74,
   "metadata": {},
   "outputs": [
    {
     "data": {
      "text/plain": [
       "array([[  1.00000000e+00,   6.52000000e+01,   4.25104000e+03,\n",
       "          2.77167808e+05,   1.80713411e+07],\n",
       "       [  1.00000000e+00,   7.89000000e+01,   6.22521000e+03,\n",
       "          4.91169069e+05,   3.87532395e+07],\n",
       "       [  1.00000000e+00,   6.11000000e+01,   3.73321000e+03,\n",
       "          2.28099131e+05,   1.39368569e+07],\n",
       "       [  1.00000000e+00,   4.58000000e+01,   2.09764000e+03,\n",
       "          9.60719120e+04,   4.40009357e+06],\n",
       "       [  1.00000000e+00,   5.42000000e+01,   2.93764000e+03,\n",
       "          1.59220088e+05,   8.62972877e+06],\n",
       "       [  1.00000000e+00,   5.87000000e+01,   3.44569000e+03,\n",
       "          2.02262003e+05,   1.18727796e+07],\n",
       "       [  1.00000000e+00,   6.66000000e+01,   4.43556000e+03,\n",
       "          2.95408296e+05,   1.96741925e+07],\n",
       "       [  1.00000000e+00,   9.61000000e+01,   9.23521000e+03,\n",
       "          8.87503681e+05,   8.52891037e+07],\n",
       "       [  1.00000000e+00,   1.00000000e+02,   1.00000000e+04,\n",
       "          1.00000000e+06,   1.00000000e+08],\n",
       "       [  1.00000000e+00,   8.59000000e+01,   7.37881000e+03,\n",
       "          6.33839779e+05,   5.44468370e+07],\n",
       "       [  1.00000000e+00,   9.43000000e+01,   8.89249000e+03,\n",
       "          8.38561807e+05,   7.90763784e+07],\n",
       "       [  1.00000000e+00,   8.29000000e+01,   6.87241000e+03,\n",
       "          5.69722789e+05,   4.72300192e+07],\n",
       "       [  1.00000000e+00,   3.90000000e+01,   1.52100000e+03,\n",
       "          5.93190000e+04,   2.31344100e+06],\n",
       "       [  1.00000000e+00,   6.18000000e+01,   3.81924000e+03,\n",
       "          2.36029032e+05,   1.45865942e+07],\n",
       "       [  1.00000000e+00,   8.45000000e+01,   7.14025000e+03,\n",
       "          6.03351125e+05,   5.09831701e+07],\n",
       "       [  1.00000000e+00,   5.65000000e+01,   3.19225000e+03,\n",
       "          1.80362125e+05,   1.01904601e+07],\n",
       "       [  1.00000000e+00,   2.93000000e+01,   8.58490000e+02,\n",
       "          2.51537570e+04,   7.37005080e+05],\n",
       "       [  1.00000000e+00,   8.17000000e+01,   6.67489000e+03,\n",
       "          5.45338513e+05,   4.45541565e+07],\n",
       "       [  1.00000000e+00,   3.66000000e+01,   1.33956000e+03,\n",
       "          4.90278960e+04,   1.79442099e+06],\n",
       "       [  1.00000000e+00,   6.95000000e+01,   4.83025000e+03,\n",
       "          3.35702375e+05,   2.33313151e+07],\n",
       "       [  1.00000000e+00,   9.81000000e+01,   9.62361000e+03,\n",
       "          9.44076141e+05,   9.26138694e+07],\n",
       "       [  1.00000000e+00,   8.92000000e+01,   7.95664000e+03,\n",
       "          7.09732288e+05,   6.33081201e+07],\n",
       "       [  1.00000000e+00,   9.17000000e+01,   8.40889000e+03,\n",
       "          7.71095213e+05,   7.07094310e+07],\n",
       "       [  1.00000000e+00,   1.00000000e+02,   1.00000000e+04,\n",
       "          1.00000000e+06,   1.00000000e+08],\n",
       "       [  1.00000000e+00,   9.41000000e+01,   8.85481000e+03,\n",
       "          8.33237621e+05,   7.84076601e+07],\n",
       "       [  1.00000000e+00,   8.57000000e+01,   7.34449000e+03,\n",
       "          6.29422793e+05,   5.39415334e+07],\n",
       "       [  1.00000000e+00,   9.03000000e+01,   8.15409000e+03,\n",
       "          7.36314327e+05,   6.64891837e+07],\n",
       "       [  1.00000000e+00,   8.88000000e+01,   7.88544000e+03,\n",
       "          7.00227072e+05,   6.21801640e+07],\n",
       "       [  1.00000000e+00,   9.44000000e+01,   8.91136000e+03,\n",
       "          8.41232384e+05,   7.94123370e+07],\n",
       "       [  1.00000000e+00,   8.73000000e+01,   7.62129000e+03,\n",
       "          6.65338617e+05,   5.80840613e+07],\n",
       "       [  1.00000000e+00,   9.41000000e+01,   8.85481000e+03,\n",
       "          8.33237621e+05,   7.84076601e+07],\n",
       "       [  1.00000000e+00,   1.00000000e+02,   1.00000000e+04,\n",
       "          1.00000000e+06,   1.00000000e+08],\n",
       "       [  1.00000000e+00,   8.20000000e+01,   6.72400000e+03,\n",
       "          5.51368000e+05,   4.52121760e+07],\n",
       "       [  1.00000000e+00,   9.50000000e+01,   9.02500000e+03,\n",
       "          8.57375000e+05,   8.14506250e+07],\n",
       "       [  1.00000000e+00,   9.69000000e+01,   9.38961000e+03,\n",
       "          9.09853209e+05,   8.81647760e+07],\n",
       "       [  1.00000000e+00,   6.82000000e+01,   4.65124000e+03,\n",
       "          3.17214568e+05,   2.16340335e+07],\n",
       "       [  1.00000000e+00,   6.14000000e+01,   3.76996000e+03,\n",
       "          2.31475544e+05,   1.42125984e+07],\n",
       "       [  1.00000000e+00,   4.15000000e+01,   1.72225000e+03,\n",
       "          7.14733750e+04,   2.96614506e+06],\n",
       "       [  1.00000000e+00,   3.02000000e+01,   9.12040000e+02,\n",
       "          2.75436080e+04,   8.31816962e+05],\n",
       "       [  1.00000000e+00,   2.18000000e+01,   4.75240000e+02,\n",
       "          1.03602320e+04,   2.25853058e+05],\n",
       "       [  1.00000000e+00,   1.58000000e+01,   2.49640000e+02,\n",
       "          3.94431200e+03,   6.23201296e+04],\n",
       "       [  1.00000000e+00,   2.90000000e+00,   8.41000000e+00,\n",
       "          2.43890000e+01,   7.07281000e+01],\n",
       "       [  1.00000000e+00,   6.60000000e+00,   4.35600000e+01,\n",
       "          2.87496000e+02,   1.89747360e+03],\n",
       "       [  1.00000000e+00,   6.50000000e+00,   4.22500000e+01,\n",
       "          2.74625000e+02,   1.78506250e+03],\n",
       "       [  1.00000000e+00,   4.00000000e+01,   1.60000000e+03,\n",
       "          6.40000000e+04,   2.56000000e+06],\n",
       "       [  1.00000000e+00,   3.38000000e+01,   1.14244000e+03,\n",
       "          3.86144720e+04,   1.30516915e+06],\n",
       "       [  1.00000000e+00,   3.33000000e+01,   1.10889000e+03,\n",
       "          3.69260370e+04,   1.22963703e+06],\n",
       "       [  1.00000000e+00,   8.55000000e+01,   7.31025000e+03,\n",
       "          6.25026375e+05,   5.34397551e+07],\n",
       "       [  1.00000000e+00,   9.53000000e+01,   9.08209000e+03,\n",
       "          8.65523177e+05,   8.24843588e+07],\n",
       "       [  1.00000000e+00,   6.20000000e+01,   3.84400000e+03,\n",
       "          2.38328000e+05,   1.47763360e+07],\n",
       "       [  1.00000000e+00,   4.57000000e+01,   2.08849000e+03,\n",
       "          9.54439930e+04,   4.36179048e+06],\n",
       "       [  1.00000000e+00,   6.30000000e+01,   3.96900000e+03,\n",
       "          2.50047000e+05,   1.57529610e+07],\n",
       "       [  1.00000000e+00,   2.11000000e+01,   4.45210000e+02,\n",
       "          9.39393100e+03,   1.98211944e+05],\n",
       "       [  1.00000000e+00,   2.14000000e+01,   4.57960000e+02,\n",
       "          9.80034400e+03,   2.09727362e+05],\n",
       "       [  1.00000000e+00,   4.76000000e+01,   2.26576000e+03,\n",
       "          1.07850176e+05,   5.13366838e+06],\n",
       "       [  1.00000000e+00,   2.19000000e+01,   4.79610000e+02,\n",
       "          1.05034590e+04,   2.30025752e+05],\n",
       "       [  1.00000000e+00,   3.57000000e+01,   1.27449000e+03,\n",
       "          4.54992930e+04,   1.62432476e+06],\n",
       "       [  1.00000000e+00,   4.05000000e+01,   1.64025000e+03,\n",
       "          6.64301250e+04,   2.69042006e+06],\n",
       "       [  1.00000000e+00,   2.92000000e+01,   8.52640000e+02,\n",
       "          2.48970880e+04,   7.26994970e+05],\n",
       "       [  1.00000000e+00,   4.72000000e+01,   2.22784000e+03,\n",
       "          1.05154048e+05,   4.96327107e+06],\n",
       "       [  1.00000000e+00,   6.62000000e+01,   4.38244000e+03,\n",
       "          2.90117528e+05,   1.92057804e+07],\n",
       "       [  1.00000000e+00,   9.34000000e+01,   8.72356000e+03,\n",
       "          8.14780504e+05,   7.61004991e+07],\n",
       "       [  1.00000000e+00,   6.78000000e+01,   4.59684000e+03,\n",
       "          3.11665752e+05,   2.11309380e+07],\n",
       "       [  1.00000000e+00,   4.34000000e+01,   1.88356000e+03,\n",
       "          8.17465040e+04,   3.54779827e+06],\n",
       "       [  1.00000000e+00,   5.95000000e+01,   3.54025000e+03,\n",
       "          2.10644875e+05,   1.25333701e+07],\n",
       "       [  1.00000000e+00,   1.78000000e+01,   3.16840000e+02,\n",
       "          5.63975200e+03,   1.00387586e+05],\n",
       "       [  1.00000000e+00,   3.11000000e+01,   9.67210000e+02,\n",
       "          3.00802310e+04,   9.35495184e+05],\n",
       "       [  1.00000000e+00,   2.14000000e+01,   4.57960000e+02,\n",
       "          9.80034400e+03,   2.09727362e+05],\n",
       "       [  1.00000000e+00,   3.68000000e+01,   1.35424000e+03,\n",
       "          4.98360320e+04,   1.83396598e+06],\n",
       "       [  1.00000000e+00,   3.30000000e+01,   1.08900000e+03,\n",
       "          3.59370000e+04,   1.18592100e+06],\n",
       "       [  1.00000000e+00,   6.60000000e+00,   4.35600000e+01,\n",
       "          2.87496000e+02,   1.89747360e+03],\n",
       "       [  1.00000000e+00,   1.75000000e+01,   3.06250000e+02,\n",
       "          5.35937500e+03,   9.37890625e+04],\n",
       "       [  1.00000000e+00,   7.80000000e+00,   6.08400000e+01,\n",
       "          4.74552000e+02,   3.70150560e+03],\n",
       "       [  1.00000000e+00,   6.20000000e+00,   3.84400000e+01,\n",
       "          2.38328000e+02,   1.47763360e+03],\n",
       "       [  1.00000000e+00,   6.00000000e+00,   3.60000000e+01,\n",
       "          2.16000000e+02,   1.29600000e+03],\n",
       "       [  1.00000000e+00,   4.50000000e+01,   2.02500000e+03,\n",
       "          9.11250000e+04,   4.10062500e+06],\n",
       "       [  1.00000000e+00,   7.45000000e+01,   5.55025000e+03,\n",
       "          4.13493625e+05,   3.08052751e+07],\n",
       "       [  1.00000000e+00,   4.58000000e+01,   2.09764000e+03,\n",
       "          9.60719120e+04,   4.40009357e+06],\n",
       "       [  1.00000000e+00,   5.37000000e+01,   2.88369000e+03,\n",
       "          1.54854153e+05,   8.31566802e+06],\n",
       "       [  1.00000000e+00,   3.66000000e+01,   1.33956000e+03,\n",
       "          4.90278960e+04,   1.79442099e+06],\n",
       "       [  1.00000000e+00,   3.35000000e+01,   1.12225000e+03,\n",
       "          3.75953750e+04,   1.25944506e+06],\n",
       "       [  1.00000000e+00,   7.04000000e+01,   4.95616000e+03,\n",
       "          3.48913664e+05,   2.45635219e+07],\n",
       "       [  1.00000000e+00,   3.22000000e+01,   1.03684000e+03,\n",
       "          3.33862480e+04,   1.07503719e+06],\n",
       "       [  1.00000000e+00,   4.67000000e+01,   2.18089000e+03,\n",
       "          1.01847563e+05,   4.75628119e+06],\n",
       "       [  1.00000000e+00,   4.80000000e+01,   2.30400000e+03,\n",
       "          1.10592000e+05,   5.30841600e+06],\n",
       "       [  1.00000000e+00,   5.61000000e+01,   3.14721000e+03,\n",
       "          1.76558481e+05,   9.90493078e+06],\n",
       "       [  1.00000000e+00,   4.51000000e+01,   2.03401000e+03,\n",
       "          9.17338510e+04,   4.13719668e+06],\n",
       "       [  1.00000000e+00,   5.68000000e+01,   3.22624000e+03,\n",
       "          1.83250432e+05,   1.04086245e+07],\n",
       "       [  1.00000000e+00,   8.63000000e+01,   7.44769000e+03,\n",
       "          6.42735647e+05,   5.54680863e+07],\n",
       "       [  1.00000000e+00,   6.31000000e+01,   3.98161000e+03,\n",
       "          2.51239591e+05,   1.58532182e+07],\n",
       "       [  1.00000000e+00,   6.61000000e+01,   4.36921000e+03,\n",
       "          2.88804781e+05,   1.90899960e+07],\n",
       "       [  1.00000000e+00,   7.39000000e+01,   5.46121000e+03,\n",
       "          4.03583419e+05,   2.98248147e+07],\n",
       "       [  1.00000000e+00,   5.36000000e+01,   2.87296000e+03,\n",
       "          1.53990656e+05,   8.25389916e+06],\n",
       "       [  1.00000000e+00,   2.89000000e+01,   8.35210000e+02,\n",
       "          2.41375690e+04,   6.97575744e+05],\n",
       "       [  1.00000000e+00,   7.73000000e+01,   5.97529000e+03,\n",
       "          4.61889917e+05,   3.57040906e+07],\n",
       "       [  1.00000000e+00,   5.78000000e+01,   3.34084000e+03,\n",
       "          1.93100552e+05,   1.11612119e+07],\n",
       "       [  1.00000000e+00,   6.96000000e+01,   4.84416000e+03,\n",
       "          3.37153536e+05,   2.34658861e+07],\n",
       "       [  1.00000000e+00,   7.60000000e+01,   5.77600000e+03,\n",
       "          4.38976000e+05,   3.33621760e+07],\n",
       "       [  1.00000000e+00,   3.69000000e+01,   1.36161000e+03,\n",
       "          5.02434090e+04,   1.85398179e+06],\n",
       "       [  1.00000000e+00,   6.25000000e+01,   3.90625000e+03,\n",
       "          2.44140625e+05,   1.52587891e+07]])"
      ]
     },
     "execution_count": 74,
     "metadata": {},
     "output_type": "execute_result"
    }
   ],
   "source": [
    "x_4"
   ]
  },
  {
   "cell_type": "code",
   "execution_count": 75,
   "metadata": {},
   "outputs": [
    {
     "data": {
      "text/plain": [
       "LinearRegression(copy_X=True, fit_intercept=True, n_jobs=1, normalize=False)"
      ]
     },
     "execution_count": 75,
     "metadata": {},
     "output_type": "execute_result"
    }
   ],
   "source": [
    "lin_4d=LinearRegression()\n",
    "lin_4d.fit(x_4,y)"
   ]
  },
  {
   "cell_type": "code",
   "execution_count": 76,
   "metadata": {
    "collapsed": true
   },
   "outputs": [],
   "source": [
    "n=np.linspace(np.min(x),np.max(x),1000)"
   ]
  },
  {
   "cell_type": "code",
   "execution_count": 77,
   "metadata": {
    "collapsed": true
   },
   "outputs": [],
   "source": [
    "y_4d_fit=lin_4d.predict(degree_4.fit_transform(n[:,np.newaxis]))"
   ]
  },
  {
   "cell_type": "code",
   "execution_count": 78,
   "metadata": {},
   "outputs": [
    {
     "data": {
      "text/plain": [
       "[]"
      ]
     },
     "execution_count": 78,
     "metadata": {},
     "output_type": "execute_result"
    },
    {
     "data": {
      "image/png": "[encoded data removed]",
      "text/plain": [
       "<matplotlib.figure.Figure at 0x15c283c6d30>"
      ]
     },
     "metadata": {},
     "output_type": "display_data"
    }
   ],
   "source": [
    "plt.title('Boston House Price')\n",
    "plt.scatter(x,y,label='data')\n",
    "plt.plot(n,y_4d_fit,'y',label='4d_lin')\n",
    "plt.plot(n,y_3d_fit,'b',label='3d_lin')\n",
    "plt.plot(n,y_2d_fit,'g',label='2d_lin')\n",
    "plt.plot(n,y_1d_fit,'r',label='1d_lin')\n",
    "plt.ylim(10,40)\n",
    "plt.xlabel('AGE')\n",
    "plt.ylabel('price')\n",
    "plt.legend()\n",
    "plt.plot()"
   ]
  },
  {
   "cell_type": "code",
   "execution_count": 79,
   "metadata": {},
   "outputs": [
    {
     "data": {
      "text/plain": [
       "26.754508704139507"
      ]
     },
     "execution_count": 79,
     "metadata": {},
     "output_type": "execute_result"
    }
   ],
   "source": [
    "mean_squared_error(y,lin_1d.predict(x[:,None]))"
   ]
  },
  {
   "cell_type": "code",
   "execution_count": 80,
   "metadata": {},
   "outputs": [
    {
     "data": {
      "text/plain": [
       "24.397088136515954"
      ]
     },
     "execution_count": 80,
     "metadata": {},
     "output_type": "execute_result"
    }
   ],
   "source": [
    "mean_squared_error(y,lin_2d.predict(x_2))"
   ]
  },
  {
   "cell_type": "code",
   "execution_count": 81,
   "metadata": {},
   "outputs": [
    {
     "data": {
      "text/plain": [
       "23.978242199677435"
      ]
     },
     "execution_count": 81,
     "metadata": {},
     "output_type": "execute_result"
    }
   ],
   "source": [
    "mean_squared_error(y,lin_3d.predict(x_3))"
   ]
  },
  {
   "cell_type": "code",
   "execution_count": 82,
   "metadata": {},
   "outputs": [
    {
     "data": {
      "text/plain": [
       "23.95681697681929"
      ]
     },
     "execution_count": 82,
     "metadata": {},
     "output_type": "execute_result"
    }
   ],
   "source": [
    "mean_squared_error(y,lin_4d.predict(x_4))"
   ]
  },
  {
   "cell_type": "code",
   "execution_count": null,
   "metadata": {
    "collapsed": true
   },
   "outputs": [],
   "source": []
  }
 ],
 "metadata": {
  "kernelspec": {
   "display_name": "Python 3",
   "language": "python",
   "name": "python3"
  },
  "language_info": {
   "codemirror_mode": {
    "name": "ipython",
    "version": 3
   },
   "file_extension": ".py",
   "mimetype": "text/x-python",
   "name": "python",
   "nbconvert_exporter": "python",
   "pygments_lexer": "ipython3",
   "version": "3.6.1"
  }
 },
 "nbformat": 4,
 "nbformat_minor": 2
}
